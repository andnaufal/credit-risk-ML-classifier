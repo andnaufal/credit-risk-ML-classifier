{
 "cells": [
  {
   "cell_type": "markdown",
   "id": "c81fc289",
   "metadata": {},
   "source": [
    "# Credit Risk Classification Data Science Project"
   ]
  },
  {
   "cell_type": "markdown",
   "id": "29b8546a",
   "metadata": {},
   "source": [
    "This kernel consists of three objectives:\n",
    "\n",
    "1. Perform data preprocessing consist of creating assumptions about data shape, fixing Incorrect data types, filling, Missing values, and convert Categorical variables then do exploratory analysis to extract meaningful insight from the data and identify the best features to be used for modeling.\n",
    "\n",
    "2. Train, test, and refine various classification models to best predict which passengers survived. The predictive algorithms to be trained are:\n",
    "\n",
    "    a. Logistic Regression\n",
    "    \n",
    "    b. K-Nearest Neighbors (KNN)\n",
    "    \n",
    "    c. Decision Tree\n",
    "    \n",
    "    d. Random Forest\n",
    "\n",
    "3. Apply the best performing model to the test set"
   ]
  },
  {
   "cell_type": "markdown",
   "id": "18c5679f",
   "metadata": {},
   "source": [
    "## Data Pre-Processing"
   ]
  },
  {
   "cell_type": "markdown",
   "id": "91796f94",
   "metadata": {},
   "source": [
    "The first step in the machine learning pipeline is to clean and transform the training data into a useable format for analysis and modeling.\n",
    "\n",
    "As such, data pre-processing addresses:\n",
    "\n",
    "1. Assumptions about data shape\n",
    "2. Incorrect data types\n",
    "3. Missing values\n",
    "4. Categorical variables"
   ]
  },
  {
   "cell_type": "markdown",
   "id": "4b5ca4db",
   "metadata": {},
   "source": [
    "### Importing relevant libraries"
   ]
  },
  {
   "cell_type": "code",
   "execution_count": 1,
   "id": "af215c6e",
   "metadata": {},
   "outputs": [],
   "source": [
    "import numpy as np\n",
    "import pandas as pd\n",
    "import matplotlib.pyplot as plt\n",
    "import seaborn as sns\n",
    "sns.set()\n",
    "from sklearn.linear_model import LinearRegression\n",
    "import math\n",
    "from sklearn.model_selection import train_test_split\n",
    "from sklearn.feature_extraction.text import CountVectorizer\n",
    "from sklearn.preprocessing import StandardScaler\n",
    "from scipy.sparse import hstack\n",
    "from sklearn.ensemble import RandomForestClassifier\n",
    "from sklearn.model_selection import GridSearchCV\n",
    "from sklearn.neighbors import KNeighborsClassifier\n",
    "from imblearn.under_sampling import RandomUnderSampler\n",
    "from sklearn.metrics import accuracy_score\n",
    "from sklearn.ensemble import RandomForestClassifier\n",
    "from sklearn.metrics import accuracy_score, confusion_matrix, precision_score, recall_score, ConfusionMatrixDisplay\n",
    "from sklearn.model_selection import RandomizedSearchCV, train_test_split\n",
    "from scipy.stats import randint\n",
    "from sklearn.model_selection import learning_curve\n",
    "from sklearn.tree import DecisionTreeClassifier\n",
    "from sklearn import metrics\n",
    "from sklearn.model_selection import learning_curve, cross_val_score"
   ]
  },
  {
   "cell_type": "code",
   "execution_count": 2,
   "id": "d00e3e15",
   "metadata": {},
   "outputs": [
    {
     "name": "stderr",
     "output_type": "stream",
     "text": [
      "/var/folders/zc/k6yw_d051m3ff3ddt90f9yjw0000gn/T/ipykernel_90432/3453792268.py:1: DtypeWarning: Columns (20) have mixed types. Specify dtype option on import or set low_memory=False.\n",
      "  data = pd.read_csv('../../credit-risk-classifier/data/raw/loan_data_2007_2014.csv')\n"
     ]
    }
   ],
   "source": [
    "data = pd.read_csv('../../credit-risk-classifier/data/raw/loan_data_2007_2014.csv')"
   ]
  },
  {
   "cell_type": "markdown",
   "id": "668b6dd6",
   "metadata": {},
   "source": [
    "## Data Cleaning and Exploration"
   ]
  },
  {
   "cell_type": "markdown",
   "id": "962d0932",
   "metadata": {},
   "source": [
    "### Data exploration"
   ]
  },
  {
   "cell_type": "code",
   "execution_count": 3,
   "id": "2bcd11ff",
   "metadata": {},
   "outputs": [
    {
     "data": {
      "text/plain": [
       "(466285, 75)"
      ]
     },
     "execution_count": 3,
     "metadata": {},
     "output_type": "execute_result"
    }
   ],
   "source": [
    "data.shape"
   ]
  },
  {
   "cell_type": "code",
   "execution_count": 4,
   "id": "e096b51a",
   "metadata": {},
   "outputs": [
    {
     "data": {
      "text/plain": [
       "Index(['Unnamed: 0', 'id', 'member_id', 'loan_amnt', 'funded_amnt',\n",
       "       'funded_amnt_inv', 'term', 'int_rate', 'installment', 'grade',\n",
       "       'sub_grade', 'emp_title', 'emp_length', 'home_ownership', 'annual_inc',\n",
       "       'verification_status', 'issue_d', 'loan_status', 'pymnt_plan', 'url',\n",
       "       'desc', 'purpose', 'title', 'zip_code', 'addr_state', 'dti',\n",
       "       'delinq_2yrs', 'earliest_cr_line', 'inq_last_6mths',\n",
       "       'mths_since_last_delinq', 'mths_since_last_record', 'open_acc',\n",
       "       'pub_rec', 'revol_bal', 'revol_util', 'total_acc',\n",
       "       'initial_list_status', 'out_prncp', 'out_prncp_inv', 'total_pymnt',\n",
       "       'total_pymnt_inv', 'total_rec_prncp', 'total_rec_int',\n",
       "       'total_rec_late_fee', 'recoveries', 'collection_recovery_fee',\n",
       "       'last_pymnt_d', 'last_pymnt_amnt', 'next_pymnt_d', 'last_credit_pull_d',\n",
       "       'collections_12_mths_ex_med', 'mths_since_last_major_derog',\n",
       "       'policy_code', 'application_type', 'annual_inc_joint', 'dti_joint',\n",
       "       'verification_status_joint', 'acc_now_delinq', 'tot_coll_amt',\n",
       "       'tot_cur_bal', 'open_acc_6m', 'open_il_6m', 'open_il_12m',\n",
       "       'open_il_24m', 'mths_since_rcnt_il', 'total_bal_il', 'il_util',\n",
       "       'open_rv_12m', 'open_rv_24m', 'max_bal_bc', 'all_util',\n",
       "       'total_rev_hi_lim', 'inq_fi', 'total_cu_tl', 'inq_last_12m'],\n",
       "      dtype='object')"
      ]
     },
     "execution_count": 4,
     "metadata": {},
     "output_type": "execute_result"
    }
   ],
   "source": [
    "data.columns"
   ]
  },
  {
   "cell_type": "code",
   "execution_count": 5,
   "id": "cc8a9880",
   "metadata": {
    "scrolled": false
   },
   "outputs": [
    {
     "data": {
      "text/html": [
       "<div>\n",
       "<style scoped>\n",
       "    .dataframe tbody tr th:only-of-type {\n",
       "        vertical-align: middle;\n",
       "    }\n",
       "\n",
       "    .dataframe tbody tr th {\n",
       "        vertical-align: top;\n",
       "    }\n",
       "\n",
       "    .dataframe thead th {\n",
       "        text-align: right;\n",
       "    }\n",
       "</style>\n",
       "<table border=\"1\" class=\"dataframe\">\n",
       "  <thead>\n",
       "    <tr style=\"text-align: right;\">\n",
       "      <th></th>\n",
       "      <th>Unnamed: 0</th>\n",
       "      <th>id</th>\n",
       "      <th>member_id</th>\n",
       "      <th>loan_amnt</th>\n",
       "      <th>funded_amnt</th>\n",
       "      <th>funded_amnt_inv</th>\n",
       "      <th>term</th>\n",
       "      <th>int_rate</th>\n",
       "      <th>installment</th>\n",
       "      <th>grade</th>\n",
       "      <th>...</th>\n",
       "      <th>total_bal_il</th>\n",
       "      <th>il_util</th>\n",
       "      <th>open_rv_12m</th>\n",
       "      <th>open_rv_24m</th>\n",
       "      <th>max_bal_bc</th>\n",
       "      <th>all_util</th>\n",
       "      <th>total_rev_hi_lim</th>\n",
       "      <th>inq_fi</th>\n",
       "      <th>total_cu_tl</th>\n",
       "      <th>inq_last_12m</th>\n",
       "    </tr>\n",
       "  </thead>\n",
       "  <tbody>\n",
       "    <tr>\n",
       "      <th>0</th>\n",
       "      <td>0</td>\n",
       "      <td>1077501</td>\n",
       "      <td>1296599</td>\n",
       "      <td>5000</td>\n",
       "      <td>5000</td>\n",
       "      <td>4975.0</td>\n",
       "      <td>36 months</td>\n",
       "      <td>10.65</td>\n",
       "      <td>162.87</td>\n",
       "      <td>B</td>\n",
       "      <td>...</td>\n",
       "      <td>NaN</td>\n",
       "      <td>NaN</td>\n",
       "      <td>NaN</td>\n",
       "      <td>NaN</td>\n",
       "      <td>NaN</td>\n",
       "      <td>NaN</td>\n",
       "      <td>NaN</td>\n",
       "      <td>NaN</td>\n",
       "      <td>NaN</td>\n",
       "      <td>NaN</td>\n",
       "    </tr>\n",
       "    <tr>\n",
       "      <th>1</th>\n",
       "      <td>1</td>\n",
       "      <td>1077430</td>\n",
       "      <td>1314167</td>\n",
       "      <td>2500</td>\n",
       "      <td>2500</td>\n",
       "      <td>2500.0</td>\n",
       "      <td>60 months</td>\n",
       "      <td>15.27</td>\n",
       "      <td>59.83</td>\n",
       "      <td>C</td>\n",
       "      <td>...</td>\n",
       "      <td>NaN</td>\n",
       "      <td>NaN</td>\n",
       "      <td>NaN</td>\n",
       "      <td>NaN</td>\n",
       "      <td>NaN</td>\n",
       "      <td>NaN</td>\n",
       "      <td>NaN</td>\n",
       "      <td>NaN</td>\n",
       "      <td>NaN</td>\n",
       "      <td>NaN</td>\n",
       "    </tr>\n",
       "    <tr>\n",
       "      <th>2</th>\n",
       "      <td>2</td>\n",
       "      <td>1077175</td>\n",
       "      <td>1313524</td>\n",
       "      <td>2400</td>\n",
       "      <td>2400</td>\n",
       "      <td>2400.0</td>\n",
       "      <td>36 months</td>\n",
       "      <td>15.96</td>\n",
       "      <td>84.33</td>\n",
       "      <td>C</td>\n",
       "      <td>...</td>\n",
       "      <td>NaN</td>\n",
       "      <td>NaN</td>\n",
       "      <td>NaN</td>\n",
       "      <td>NaN</td>\n",
       "      <td>NaN</td>\n",
       "      <td>NaN</td>\n",
       "      <td>NaN</td>\n",
       "      <td>NaN</td>\n",
       "      <td>NaN</td>\n",
       "      <td>NaN</td>\n",
       "    </tr>\n",
       "    <tr>\n",
       "      <th>3</th>\n",
       "      <td>3</td>\n",
       "      <td>1076863</td>\n",
       "      <td>1277178</td>\n",
       "      <td>10000</td>\n",
       "      <td>10000</td>\n",
       "      <td>10000.0</td>\n",
       "      <td>36 months</td>\n",
       "      <td>13.49</td>\n",
       "      <td>339.31</td>\n",
       "      <td>C</td>\n",
       "      <td>...</td>\n",
       "      <td>NaN</td>\n",
       "      <td>NaN</td>\n",
       "      <td>NaN</td>\n",
       "      <td>NaN</td>\n",
       "      <td>NaN</td>\n",
       "      <td>NaN</td>\n",
       "      <td>NaN</td>\n",
       "      <td>NaN</td>\n",
       "      <td>NaN</td>\n",
       "      <td>NaN</td>\n",
       "    </tr>\n",
       "    <tr>\n",
       "      <th>4</th>\n",
       "      <td>4</td>\n",
       "      <td>1075358</td>\n",
       "      <td>1311748</td>\n",
       "      <td>3000</td>\n",
       "      <td>3000</td>\n",
       "      <td>3000.0</td>\n",
       "      <td>60 months</td>\n",
       "      <td>12.69</td>\n",
       "      <td>67.79</td>\n",
       "      <td>B</td>\n",
       "      <td>...</td>\n",
       "      <td>NaN</td>\n",
       "      <td>NaN</td>\n",
       "      <td>NaN</td>\n",
       "      <td>NaN</td>\n",
       "      <td>NaN</td>\n",
       "      <td>NaN</td>\n",
       "      <td>NaN</td>\n",
       "      <td>NaN</td>\n",
       "      <td>NaN</td>\n",
       "      <td>NaN</td>\n",
       "    </tr>\n",
       "  </tbody>\n",
       "</table>\n",
       "<p>5 rows × 75 columns</p>\n",
       "</div>"
      ],
      "text/plain": [
       "   Unnamed: 0       id  member_id  loan_amnt  funded_amnt  funded_amnt_inv  \\\n",
       "0           0  1077501    1296599       5000         5000           4975.0   \n",
       "1           1  1077430    1314167       2500         2500           2500.0   \n",
       "2           2  1077175    1313524       2400         2400           2400.0   \n",
       "3           3  1076863    1277178      10000        10000          10000.0   \n",
       "4           4  1075358    1311748       3000         3000           3000.0   \n",
       "\n",
       "         term  int_rate  installment grade  ... total_bal_il il_util  \\\n",
       "0   36 months     10.65       162.87     B  ...          NaN     NaN   \n",
       "1   60 months     15.27        59.83     C  ...          NaN     NaN   \n",
       "2   36 months     15.96        84.33     C  ...          NaN     NaN   \n",
       "3   36 months     13.49       339.31     C  ...          NaN     NaN   \n",
       "4   60 months     12.69        67.79     B  ...          NaN     NaN   \n",
       "\n",
       "  open_rv_12m open_rv_24m  max_bal_bc all_util total_rev_hi_lim inq_fi  \\\n",
       "0         NaN         NaN         NaN      NaN              NaN    NaN   \n",
       "1         NaN         NaN         NaN      NaN              NaN    NaN   \n",
       "2         NaN         NaN         NaN      NaN              NaN    NaN   \n",
       "3         NaN         NaN         NaN      NaN              NaN    NaN   \n",
       "4         NaN         NaN         NaN      NaN              NaN    NaN   \n",
       "\n",
       "  total_cu_tl inq_last_12m  \n",
       "0         NaN          NaN  \n",
       "1         NaN          NaN  \n",
       "2         NaN          NaN  \n",
       "3         NaN          NaN  \n",
       "4         NaN          NaN  \n",
       "\n",
       "[5 rows x 75 columns]"
      ]
     },
     "execution_count": 5,
     "metadata": {},
     "output_type": "execute_result"
    }
   ],
   "source": [
    "data.head()"
   ]
  },
  {
   "cell_type": "code",
   "execution_count": 6,
   "id": "4edbf97d",
   "metadata": {},
   "outputs": [
    {
     "name": "stdout",
     "output_type": "stream",
     "text": [
      "Column: Unnamed: 0 - Unique Values: [     0      1      2 ... 466282 466283 466284]\n",
      "Column: id - Unique Values: [1077501 1077430 1077175 ... 9584776 9604874 9199665]\n",
      "Column: member_id - Unique Values: [ 1296599  1314167  1313524 ... 11436914 11457002 11061576]\n",
      "Column: loan_amnt - Unique Values: [ 5000  2500  2400 ... 33675 27775 33175]\n",
      "Column: funded_amnt - Unique Values: [ 5000  2500  2400 ... 27775 33175 31725]\n",
      "Column: funded_amnt_inv - Unique Values: [ 4975.  2500.  2400. ... 30425. 33125. 33625.]\n",
      "Column: term - Unique Values: [' 36 months' ' 60 months']\n",
      "Column: int_rate - Unique Values: [10.65 15.27 15.96 13.49 12.69  7.9  18.64 21.28 14.65  9.91 16.29  6.03\n",
      " 11.71 12.42 14.27 16.77  7.51  8.9  18.25  6.62 19.91 17.27 17.58 21.67\n",
      " 19.42 22.06 20.89 20.3  23.91 19.03 23.52 23.13 22.74 22.35 24.11  6.\n",
      " 22.11  7.49 11.99  5.99 10.99  9.99 18.79 11.49  8.49 15.99 16.49  6.99\n",
      " 12.99 15.23 14.79  5.42 10.59 17.49 15.62 21.36 19.29 13.99 18.39 16.89\n",
      " 17.99 20.62 20.99 22.85 19.69 20.25 23.22 21.74 22.48 23.59 12.62 18.07\n",
      " 11.63  7.91  7.42 11.14 20.2  12.12 19.39 16.11 17.54 22.64 13.84 16.59\n",
      " 17.19 12.87 20.69  9.67 21.82 19.79 18.49 22.94 24.59 24.4  21.48 14.82\n",
      " 14.17  7.29 17.88 20.11 16.02 17.51 13.43 14.91 13.06 15.28 15.65 17.14\n",
      " 11.11 10.37 16.4   7.66 10.   18.62 10.74  5.79  6.92  9.63 14.54 12.68\n",
      " 19.36 13.8  18.99 21.59 20.85 21.22 19.74 20.48  6.91 12.23 12.61 10.36\n",
      "  6.17  6.54  9.25 16.69 15.95  8.88 13.35  9.62 16.32 12.98 14.83 13.72\n",
      " 14.09 14.46 20.03 17.8  15.2  15.57 18.54 19.66 17.06 18.17 17.43 20.4\n",
      " 20.77 18.91 21.14 17.44 13.23  7.88 11.12 13.61 10.38 17.56 17.93 15.58\n",
      " 13.98 14.84 15.21  6.76  6.39 11.86  7.14 14.35 16.82 10.75 14.72 16.45\n",
      " 18.67 20.53 19.41 20.16 21.27 18.3  19.04 20.9  21.64 12.73 10.25 13.11\n",
      " 10.62 13.48 14.59 16.07 15.7   9.88 11.36 15.33 13.85 14.96 14.22  7.74\n",
      " 13.22 13.57  8.59 17.04 14.61  8.94 12.18 11.83 11.48 16.35 13.92 15.31\n",
      " 14.26 19.13 12.53 16.7  16.   17.39 18.09  7.4  18.43 17.74  7.05 20.52\n",
      " 20.86 19.47 18.78 21.21 19.82 20.17 13.16  8.   13.47 12.21 16.63  9.32\n",
      " 12.84 11.26 15.68 15.37 10.95 11.89 14.11 13.79  7.68 11.58  7.37 16.95\n",
      " 15.05 18.53 14.74 14.42 18.21 17.26 18.84 17.9  19.16 13.67  9.38 12.72\n",
      " 13.36 11.46 10.51  9.07 13.04 11.78 12.41 10.83 12.09 17.46 14.3  17.15\n",
      " 15.25 10.2  15.88 14.93 16.2  18.72 14.62  8.32 14.12 10.96 10.33 10.01\n",
      " 12.86 11.28 11.59  8.63 12.54 12.22 11.91 15.38 16.96 13.17  9.7  16.33\n",
      " 14.75 15.07 16.01 10.71 10.64  9.76 11.34 10.39 13.87 11.03 11.66 13.24\n",
      " 10.08  9.45 13.55 12.29 11.97 12.92 15.45 14.5  14.18 15.13 16.08 15.76\n",
      " 17.03 17.34 16.71  9.83 13.62 10.46  9.51  9.2  13.3  10.78  7.75  8.38\n",
      " 12.36 12.67 11.72 13.93  8.07  7.43 12.04 14.25 14.88 11.41 11.09 10.14\n",
      " 16.15 15.83  7.12 18.36  9.64  9.96 11.22  9.01  9.33 11.54 12.17 12.8\n",
      " 14.38 13.75 14.7  12.49 14.07 10.91 13.12 10.28  8.7  14.67 15.01 17.78\n",
      " 16.83 17.59 14.43 16.65 17.91 17.28 18.86 18.61 17.66 18.29 17.97 18.04\n",
      " 14.57 17.72 17.09 15.51 16.46 17.41 17.22 16.91 16.28 17.86 13.53 12.85\n",
      " 16.24  7.62 19.97 14.98 22.9  14.47 19.22 20.5  15.61 17.57 22.4  23.4\n",
      " 16.99 23.7  25.89 25.8  24.08 24.99 25.57 26.06 25.99 24.5  25.83 21.7\n",
      " 17.76 15.1  18.55 19.52 19.2  17.1  21.   23.1   6.97  8.6  11.55 13.68\n",
      " 15.22 22.7   9.71 21.6  22.2  18.85 14.33 16.78 13.05 24.89 23.5  21.15\n",
      " 12.35 20.8  20.31 25.28 19.05 23.28 10.16 18.75 17.77 15.8  19.72 23.76\n",
      " 20.49 24.7  21.98 23.83 23.63 22.47 22.95 21.49 24.83 21.97 15.81 22.45\n",
      " 22.78 23.33 19.99 24.2  24.76 24.33 23.26 24.52 14.28 12.39 13.66 15.59\n",
      " 11.44 21.99 14.31 10.49 14.99  9.49  8.19 22.99  8.67 19.24  6.49 23.99\n",
      " 10.15 18.24  8.39 11.67  7.69  9.17 14.49 22.15 23.43 13.65 14.64 21.18\n",
      " 18.92 14.16]\n",
      "Column: installment - Unique Values: [162.87  59.83  84.33 ... 971.51 372.77 217.65]\n",
      "Column: grade - Unique Values: ['B' 'C' 'A' 'E' 'F' 'D' 'G']\n",
      "Column: sub_grade - Unique Values: ['B2' 'C4' 'C5' 'C1' 'B5' 'A4' 'E1' 'F2' 'C3' 'B1' 'D1' 'A1' 'B3' 'B4'\n",
      " 'C2' 'D2' 'A3' 'A5' 'D5' 'A2' 'E4' 'D3' 'D4' 'F3' 'E3' 'F4' 'F1' 'E5'\n",
      " 'G4' 'E2' 'G3' 'G2' 'G1' 'F5' 'G5']\n",
      "Column: emp_title - Unique Values: [nan 'Ryder' 'AIR RESOURCES BOARD' ... 'MecÃ¡nica'\n",
      " 'Chief of Interpretation (Park Ranger)' 'Server Engineer Lead']\n",
      "Column: emp_length - Unique Values: ['10+ years' '< 1 year' '1 year' '3 years' '8 years' '9 years' '4 years'\n",
      " '5 years' '6 years' '2 years' '7 years' nan]\n",
      "Column: home_ownership - Unique Values: ['RENT' 'OWN' 'MORTGAGE' 'OTHER' 'NONE' 'ANY']\n",
      "Column: annual_inc - Unique Values: [ 24000.  30000.  12252. ... 284481. 113926.  72787.]\n",
      "Column: verification_status - Unique Values: ['Verified' 'Source Verified' 'Not Verified']\n",
      "Column: issue_d - Unique Values: ['Dec-11' 'Nov-11' 'Oct-11' 'Sep-11' 'Aug-11' 'Jul-11' 'Jun-11' 'May-11'\n",
      " 'Apr-11' 'Mar-11' 'Feb-11' 'Jan-11' 'Dec-10' 'Nov-10' 'Oct-10' 'Sep-10'\n",
      " 'Aug-10' 'Jul-10' 'Jun-10' 'May-10' 'Apr-10' 'Mar-10' 'Feb-10' 'Jan-10'\n",
      " 'Dec-09' 'Nov-09' 'Oct-09' 'Sep-09' 'Aug-09' 'Jul-09' 'Jun-09' 'May-09'\n",
      " 'Apr-09' 'Mar-09' 'Feb-09' 'Jan-09' 'Dec-08' 'Nov-08' 'Oct-08' 'Sep-08'\n",
      " 'Aug-08' 'Jul-08' 'Jun-08' 'May-08' 'Apr-08' 'Mar-08' 'Feb-08' 'Jan-08'\n",
      " 'Dec-07' 'Nov-07' 'Oct-07' 'Sep-07' 'Aug-07' 'Jul-07' 'Jun-07' 'Dec-13'\n",
      " 'Nov-13' 'Oct-13' 'Sep-13' 'Aug-13' 'Jul-13' 'Jun-13' 'May-13' 'Apr-13'\n",
      " 'Mar-13' 'Feb-13' 'Jan-13' 'Dec-12' 'Nov-12' 'Oct-12' 'Sep-12' 'Aug-12'\n",
      " 'Jul-12' 'Jun-12' 'May-12' 'Apr-12' 'Mar-12' 'Feb-12' 'Jan-12' 'Dec-14'\n",
      " 'Nov-14' 'Oct-14' 'Sep-14' 'Aug-14' 'Jul-14' 'Jun-14' 'May-14' 'Apr-14'\n",
      " 'Mar-14' 'Feb-14' 'Jan-14']\n",
      "Column: loan_status - Unique Values: ['Fully Paid' 'Charged Off' 'Current' 'Default' 'Late (31-120 days)'\n",
      " 'In Grace Period' 'Late (16-30 days)'\n",
      " 'Does not meet the credit policy. Status:Fully Paid'\n",
      " 'Does not meet the credit policy. Status:Charged Off']\n",
      "Column: pymnt_plan - Unique Values: ['n' 'y']\n",
      "Column: url - Unique Values: ['https://www.lendingclub.com/browse/loanDetail.action?loan_id=1077501'\n",
      " 'https://www.lendingclub.com/browse/loanDetail.action?loan_id=1077430'\n",
      " 'https://www.lendingclub.com/browse/loanDetail.action?loan_id=1077175'\n",
      " ...\n",
      " 'https://www.lendingclub.com/browse/loanDetail.action?loan_id=9584776'\n",
      " 'https://www.lendingclub.com/browse/loanDetail.action?loan_id=9604874'\n",
      " 'https://www.lendingclub.com/browse/loanDetail.action?loan_id=9199665']\n",
      "Column: desc - Unique Values: ['  Borrower added on 12/22/11 > I need to upgrade my business technologies.<br>'\n",
      " '  Borrower added on 12/22/11 > I plan to use this money to finance the motorcycle i am looking at. I plan to have it paid off as soon as possible/when i sell my old bike. I only need this money because the deal im looking at is to good to pass up.<br><br>  Borrower added on 12/22/11 > I plan to use this money to finance the motorcycle i am looking at. I plan to have it paid off as soon as possible/when i sell my old bike.I only need this money because the deal im looking at is to good to pass up. I have finished college with an associates degree in business and its takingmeplaces<br>'\n",
      " nan ...\n",
      " '  Borrower added on 12/09/13 > consolidate all credit accounts<br>'\n",
      " '  Borrower added on 12/06/13 > I am going to consolidate a credit card debt from medical and moving expenses with a loan I already have. I have paid everything on time for years, I just need to eliminate this high interest credit card.<br>'\n",
      " '  Borrower added on 12/04/13 > I will like a loan to fix  our cars and paid our house property tax<br>']\n",
      "Column: purpose - Unique Values: ['credit_card' 'car' 'small_business' 'other' 'wedding'\n",
      " 'debt_consolidation' 'home_improvement' 'major_purchase' 'medical'\n",
      " 'moving' 'vacation' 'house' 'renewable_energy' 'educational']\n",
      "Column: title - Unique Values: ['Computer' 'bike' 'real estate business' ... 'LoanGetter'\n",
      " 'Consolidation 01' 'Paying off the car and some bills']\n",
      "Column: zip_code - Unique Values: ['860xx' '309xx' '606xx' '917xx' '972xx' '852xx' '280xx' '900xx' '958xx'\n",
      " '774xx' '853xx' '913xx' '245xx' '951xx' '641xx' '921xx' '067xx' '890xx'\n",
      " '770xx' '335xx' '799xx' '605xx' '103xx' '150xx' '326xx' '564xx' '141xx'\n",
      " '080xx' '330xx' '974xx' '934xx' '405xx' '946xx' '445xx' '850xx' '604xx'\n",
      " '292xx' '088xx' '180xx' '029xx' '700xx' '010xx' '441xx' '104xx' '061xx'\n",
      " '616xx' '947xx' '914xx' '765xx' '980xx' '017xx' '752xx' '787xx' '077xx'\n",
      " '540xx' '225xx' '440xx' '437xx' '559xx' '912xx' '325xx' '300xx' '923xx'\n",
      " '352xx' '013xx' '146xx' '074xx' '786xx' '937xx' '331xx' '115xx' '191xx'\n",
      " '114xx' '908xx' '902xx' '992xx' '750xx' '950xx' '329xx' '226xx' '614xx'\n",
      " '802xx' '672xx' '083xx' '100xx' '926xx' '931xx' '712xx' '060xx' '707xx'\n",
      " '342xx' '895xx' '430xx' '919xx' '996xx' '891xx' '935xx' '801xx' '928xx'\n",
      " '233xx' '927xx' '970xx' '211xx' '303xx' '070xx' '194xx' '263xx' '403xx'\n",
      " '301xx' '553xx' '993xx' '312xx' '432xx' '602xx' '216xx' '151xx' '971xx'\n",
      " '305xx' '334xx' '050xx' '129xx' '925xx' '483xx' '760xx' '961xx' '200xx'\n",
      " '085xx' '981xx' '601xx' '117xx' '063xx' '920xx' '543xx' '775xx' '570xx'\n",
      " '038xx' '221xx' '985xx' '113xx' '275xx' '236xx' '148xx' '028xx' '450xx'\n",
      " '532xx' '729xx' '321xx' '959xx' '941xx' '955xx' '217xx' '880xx' '660xx'\n",
      " '062xx' '193xx' '761xx' '857xx' '306xx' '271xx' '142xx' '956xx' '983xx'\n",
      " '945xx' '109xx' '112xx' '187xx' '630xx' '435xx' '488xx' '287xx' '705xx'\n",
      " '592xx' '318xx' '549xx' '212xx' '347xx' '274xx' '265xx' '785xx' '027xx'\n",
      " '089xx' '813xx' '069xx' '260xx' '201xx' '349xx' '322xx' '075xx' '124xx'\n",
      " '940xx' '967xx' '111xx' '773xx' '997xx' '076xx' '538xx' '021xx' '304xx'\n",
      " '234xx' '308xx' '809xx' '071xx' '363xx' '296xx' '240xx' '830xx' '011xx'\n",
      " '622xx' '207xx' '140xx' '336xx' '619xx' '208xx' '618xx' '014xx' '644xx'\n",
      " '283xx' '276xx' '631xx' '243xx' '960xx' '181xx' '922xx' '224xx' '975xx'\n",
      " '105xx' '986xx' '218xx' '652xx' '782xx' '410xx' '480xx' '328xx' '719xx'\n",
      " '982xx' '065xx' '081xx' '954xx' '346xx' '442xx' '025xx' '122xx' '173xx'\n",
      " '282xx' '120xx' '082xx' '766xx' '229xx' '840xx' '744xx' '933xx' '451xx'\n",
      " '907xx' '728xx' '159xx' '333xx' '293xx' '701xx' '984xx' '811xx' '597xx'\n",
      " '957xx' '165xx' '720xx' '119xx' '359xx' '195xx' '084xx' '969xx' '924xx'\n",
      " '531xx' '716xx' '337xx' '841xx' '323xx' '740xx' '179xx' '805xx' '285xx'\n",
      " '551xx' '658xx' '944xx' '232xx' '905xx' '600xx' '327xx' '711xx' '906xx'\n",
      " '444xx' '856xx' '064xx' '777xx' '072xx' '554xx' '145xx' '537xx' '152xx'\n",
      " '847xx' '295xx' '829xx' '320xx' '131xx' '939xx' '572xx' '281xx' '550xx'\n",
      " '078xx' '452xx' '778xx' '313xx' '851xx' '784xx' '804xx' '571xx' '210xx'\n",
      " '988xx' '400xx' '995xx' '023xx' '158xx' '657xx' '016xx' '019xx' '290xx'\n",
      " '190xx' '366xx' '066xx' '991xx' '968xx' '721xx' '439xx' '640xx' '546xx'\n",
      " '024xx' '751xx' '431xx' '741xx' '904xx' '156xx' '316xx' '299xx' '087xx'\n",
      " '739xx' '949xx' '261xx' '073xx' '222xx' '244xx' '617xx' '018xx' '286xx'\n",
      " '759xx' '952xx' '930xx' '911xx' '220xx' '731xx' '730xx' '262xx' '338xx'\n",
      " '160xx' '031xx' '054xx' '223xx' '272xx' '882xx' '557xx' '797xx' '725xx'\n",
      " '130xx' '030xx' '206xx' '324xx' '170xx' '291xx' '161xx' '647xx' '916xx'\n",
      " '665xx' '209xx' '915xx' '110xx' '086xx' '484xx' '844xx' '020xx' '354xx'\n",
      " '448xx' '978xx' '757xx' '953xx' '577xx' '315xx' '664xx' '186xx' '182xx'\n",
      " '574xx' '800xx' '197xx' '137xx' '314xx' '755xx' '973xx' '603xx' '481xx'\n",
      " '780xx' '894xx' '341xx' '361xx' '178xx' '068xx' '565xx' '611xx' '288xx'\n",
      " '443xx' '662xx' '874xx' '560xx' '535xx' '499xx' '162xx' '756xx' '168xx'\n",
      " '827xx' '541xx' '615xx' '989xx' '037xx' '863xx' '339xx' '367xx' '273xx'\n",
      " '052xx' '623xx' '416xx' '648xx' '918xx' '436xx' '898xx' '674xx' '496xx'\n",
      " '294xx' '762xx' '128xx' '903xx' '932xx' '650xx' '246xx' '633xx' '666xx'\n",
      " '228xx' '015xx' '302xx' '573xx' '118xx' '998xx' '767xx' '490xx' '350xx'\n",
      " '591xx' '254xx' '566xx' '596xx' '637xx' '032xx' '763xx' '871xx' '494xx'\n",
      " '402xx' '545xx' '184xx' '458xx' '239xx' '977xx' '297xx' '284xx' '144xx'\n",
      " '748xx' '310xx' '147xx' '153xx' '544xx' '948xx' '576xx' '976xx' '107xx'\n",
      " '846xx' '344xx' '351xx' '754xx' '910xx' '656xx' '357xx' '791xx' '493xx'\n",
      " '855xx' '278xx' '125xx' '175xx' '530xx' '171xx' '703xx' '620xx' '438xx'\n",
      " '626xx' '307xx' '636xx' '319xx' '116xx' '645xx' '708xx' '816xx' '625xx'\n",
      " '133xx' '612xx' '238xx' '166xx' '231xx' '241xx' '826xx' '783xx' '793xx'\n",
      " '646xx' '188xx' '108xx' '653xx' '057xx' '796xx' '990xx' '219xx' '724xx'\n",
      " '456xx' '214xx' '237xx' '737xx' '121xx' '199xx' '548xx' '453xx' '704xx'\n",
      " '368xx' '828xx' '598xx' '136xx' '610xx' '433xx' '722xx' '743xx' '810xx'\n",
      " '706xx' '235xx' '139xx' '613xx' '454xx' '317xx' '746xx' '446xx' '486xx'\n",
      " '033xx' '279xx' '407xx' '803xx' '794xx' '457xx' '189xx' '196xx' '539xx'\n",
      " '424xx' '492xx' '482xx' '667xx' '845xx' '608xx' '401xx' '362xx' '627xx'\n",
      " '717xx' '356xx' '607xx' '963xx' '198xx' '936xx' '713xx' '227xx' '883xx'\n",
      " '563xx' '893xx' '079xx' '806xx' '360xx' '172xx' '422xx' '768xx' '034xx'\n",
      " '735xx' '870xx' '012xx' '594xx' '215xx' '628xx' '749xx' '101xx' '814xx'\n",
      " '255xx' '745xx' '495xx' '132xx' '183xx' '864xx' '106xx' '663xx' '943xx'\n",
      " '094xx' '177xx' '365xx' '897xx' '776xx' '843xx' '421xx' '253xx' '795xx'\n",
      " '727xx' '528xx' '270xx' '808xx' '277xx' '447xx' '358xx' '815xx' '250xx'\n",
      " '230xx' '790xx' '884xx' '242xx' '534xx' '404xx' '397xx' '434xx' '671xx'\n",
      " '655xx' '675xx' '053xx' '859xx' '126xx' '102xx' '256xx' '673xx' '489xx'\n",
      " '258xx' '423xx' '497xx' '788xx' '127xx' '176xx' '380xx' '058xx' '635xx'\n",
      " '498xx' '820xx' '599xx' '822xx' '638xx' '723xx' '449xx' '420xx' '157xx'\n",
      " '726xx' '185xx' '527xx' '298xx' '769xx' '257xx' '881xx' '575xx' '624xx'\n",
      " '134xx' '877xx' '781xx' '718xx' '670xx' '138xx' '026xx' '678xx' '398xx'\n",
      " '411xx' '149xx' '247xx' '875xx' '838xx' '651xx' '364xx' '203xx' '427xx'\n",
      " '629xx' '355xx' '174xx' '547xx' '567xx' '558xx' '135xx' '035xx' '999xx'\n",
      " '634xx' '455xx' '143xx' '154xx' '562xx' '779xx' '561xx' '734xx' '789xx'\n",
      " '812xx' '268xx' '051xx' '865xx' '406xx' '661xx' '758xx' '676xx' '491xx'\n",
      " '267xx' '609xx' '595xx' '259xx' '163xx' '264xx' '409xx' '376xx' '471xx'\n",
      " '375xx' '747xx' '123xx' '714xx' '590xx' '639xx' '412xx' '425xx' '022xx'\n",
      " '369xx' '164xx' '825xx' '266xx' '096xx' '487xx' '251xx' '593xx' '169xx'\n",
      " '413xx' '155xx' '764xx' '710xx' '408xx' '668xx' '056xx' '669xx' '167xx'\n",
      " '542xx' '679xx' '462xx' '792xx' '824xx' '249xx' '798xx' '370xx' '485xx'\n",
      " '654xx' '289xx' '807xx' '252xx' '556xx' '353xx' '677xx' '090xx' '371xx'\n",
      " '831xx' '736xx' '007xx' '332xx' '468xx' '461xx' '093xx' '248xx' '463xx'\n",
      " '391xx' '381xx' '415xx' '378xx' '414xx' '396xx' '836xx' '044xx' '392xx'\n",
      " '772xx' '374xx' '823xx' '395xx' '394xx' '965xx' '390xx' '388xx' '386xx'\n",
      " '040xx' '385xx' '379xx' '681xx' '837xx' '373xx' '753xx' '834xx' '383xx'\n",
      " '384xx' '372xx' '833xx' '522xx' '523xx' '474xx' '465xx' '689xx' '473xx'\n",
      " '041xx' '685xx' '479xx' '469xx' '738xx' '418xx' '204xx' '059xx' '878xx'\n",
      " '460xx' '426xx' '514xx' '500xx' '503xx' '832xx' '691xx' '470xx' '036xx'\n",
      " '467xx' '476xx' '478xx' '466xx' '377xx' '475xx' '477xx' '472xx' '994xx'\n",
      " '873xx' '464xx' '979xx' '569xx' '382xx' '680xx' '879xx' '049xx' '962xx'\n",
      " '502xx' '942xx' '621xx' '417xx' '091xx' '643xx' '821xx' '340xx' '513xx'\n",
      " '387xx' '393xx' '389xx' '429xx' '311xx' '682xx' '854xx' '582xx' '929xx'\n",
      " '938xx' '008xx' '861xx' '888xx' '098xx' '524xx' '889xx' '092xx' '510xx'\n",
      " '909xx' '516xx' '043xx' '587xx' '511xx' '901xx']\n",
      "Column: addr_state - Unique Values: ['AZ' 'GA' 'IL' 'CA' 'OR' 'NC' 'TX' 'VA' 'MO' 'CT' 'UT' 'FL' 'NY' 'PA'\n",
      " 'MN' 'NJ' 'KY' 'OH' 'SC' 'RI' 'LA' 'MA' 'WA' 'WI' 'AL' 'CO' 'KS' 'NV'\n",
      " 'AK' 'MD' 'WV' 'VT' 'MI' 'DC' 'SD' 'NH' 'AR' 'NM' 'MT' 'HI' 'WY' 'OK'\n",
      " 'DE' 'MS' 'TN' 'IA' 'NE' 'ID' 'IN' 'ME']\n",
      "Column: dti - Unique Values: [27.65  1.    8.72 ... 38.95 39.82 39.14]\n",
      "Column: delinq_2yrs - Unique Values: [ 0.  2.  3.  1.  4.  6.  5.  8.  7.  9. 11. nan 13. 15. 10. 12. 17. 18.\n",
      " 29. 24. 14. 21. 22. 19. 16.]\n",
      "Column: earliest_cr_line - Unique Values: ['Jan-85' 'Apr-99' 'Nov-01' 'Feb-96' 'Jan-96' 'Nov-04' 'Jul-05' 'Jan-07'\n",
      " 'Apr-04' 'Sep-04' 'Jan-98' 'Oct-89' 'Jul-03' 'May-91' 'Sep-07' 'Oct-98'\n",
      " 'Aug-93' 'Oct-03' 'Jan-01' 'Nov-97' 'Feb-83' 'Jul-85' 'Apr-03' 'Jun-01'\n",
      " 'Feb-02' 'Aug-84' 'Nov-06' 'Dec-87' 'Nov-81' 'Feb-97' 'Apr-05' 'Oct-07'\n",
      " 'Dec-00' 'Apr-07' 'Dec-01' 'Jan-03' 'Mar-94' 'Sep-98' 'Jun-04' 'Nov-95'\n",
      " 'Jul-99' 'Jun-95' 'Sep-92' 'Jan-02' 'Apr-92' 'Oct-06' 'May-00' 'Dec-98'\n",
      " 'Dec-04' 'Oct-00' 'May-02' 'May-06' 'Jul-02' 'Jul-06' 'May-97' 'Oct-05'\n",
      " 'Apr-95' 'Oct-02' 'Jan-00' 'Apr-00' 'Dec-94' 'Sep-05' 'Dec-84' 'Dec-99'\n",
      " 'Nov-03' 'Jun-89' 'Jun-03' 'Oct-96' 'May-03' 'Jun-02' 'Jun-07' 'Dec-96'\n",
      " 'Feb-84' 'Sep-02' 'Jan-86' 'May-98' 'Jan-97' 'Jun-05' 'Feb-90' 'Mar-04'\n",
      " 'Jul-95' 'Aug-94' 'Jun-92' 'Mar-97' 'Apr-06' 'Apr-90' 'Aug-99' 'Sep-00'\n",
      " 'Feb-01' 'Dec-88' 'Feb-99' 'Dec-91' 'Aug-00' 'Oct-04' 'Aug-04' 'Feb-05'\n",
      " 'Nov-05' 'Nov-00' 'May-07' 'Jan-91' 'Jun-00' 'Aug-06' 'Dec-02' 'Jun-93'\n",
      " 'Jun-06' 'Feb-04' 'Dec-90' 'Mar-00' 'Feb-95' 'Jul-01' 'Apr-02' 'Sep-06'\n",
      " 'May-99' 'Aug-98' 'Dec-05' 'May-04' 'Oct-01' 'Jun-83' 'Mar-86' 'Apr-80'\n",
      " 'Jul-04' 'Jul-08' 'May-96' 'Jan-04' 'Nov-02' 'Aug-02' 'Aug-01' 'Mar-91'\n",
      " 'Sep-89' 'Sep-94' 'Sep-03' 'Sep-99' 'Aug-05' 'Dec-86' 'Nov-98' 'Feb-06'\n",
      " 'May-94' 'Nov-07' 'Feb-93' 'Nov-91' 'May-05' 'Dec-73' 'May-01' 'Mar-90'\n",
      " 'Mar-96' 'Oct-79' 'Jun-81' 'Mar-01' 'Apr-01' 'Jun-99' 'Nov-93' 'Jan-06'\n",
      " 'Dec-97' 'Nov-94' 'Jul-97' 'Oct-91' 'Jun-94' 'Mar-06' 'Sep-96' 'Apr-91'\n",
      " 'Jul-93' 'Jan-95' 'Sep-87' 'Mar-03' 'Oct-99' 'Jul-96' 'Dec-03' 'Aug-88'\n",
      " 'Jan-92' 'Mar-98' 'Feb-07' 'Aug-82' 'Mar-95' 'Dec-92' 'Jul-98' 'Jul-89'\n",
      " 'May-90' 'Jul-94' 'Sep-01' 'Mar-84' 'Aug-03' 'Nov-99' 'Mar-07' 'Mar-08'\n",
      " 'Apr-94' 'Jan-05' 'Jul-86' 'Aug-90' 'May-92' 'Jul-00' 'Mar-88' 'May-83'\n",
      " 'Apr-93' 'Jul-78' 'Feb-00' 'Dec-81' 'Mar-92' 'Jan-81' 'Sep-90' 'Jun-98'\n",
      " 'May-93' 'Nov-96' 'Mar-02' 'Jan-88' 'Aug-97' 'Aug-87' 'Aug-08' 'Oct-94'\n",
      " 'Oct-86' 'Feb-94' 'Jun-96' 'Feb-98' 'Nov-08' 'Apr-98' 'Jul-79' 'Jan-93'\n",
      " 'May-87' 'Jul-71' 'Aug-07' 'Jun-97' 'Mar-80' 'Dec-06' 'Jul-07' 'Oct-95'\n",
      " 'Jul-91' 'Jul-92' 'Dec-72' 'Dec-93' 'Jan-99' 'Feb-03' 'Apr-97' 'Dec-95'\n",
      " 'Apr-96' 'Jul-90' 'Mar-70' 'Nov-84' 'Apr-84' 'Jul-84' 'Aug-95' 'Mar-99'\n",
      " 'Sep-88' 'Mar-89' 'Mar-87' 'Oct-97' 'Dec-80' 'Jan-94' 'Sep-95' 'Mar-05'\n",
      " 'Jan-89' 'Feb-92' 'Jan-90' 'Nov-90' 'Mar-69' 'Jun-75' 'Mar-85' 'Dec-07'\n",
      " 'Oct-93' 'Dec-89' 'Sep-80' 'Jun-88' 'May-78' 'Apr-73' 'Aug-89' 'Oct-90'\n",
      " 'Sep-91' 'Feb-82' 'Feb-87' 'Nov-85' 'Jan-84' 'Jul-88' 'May-08' 'Oct-85'\n",
      " 'Mar-83' 'Aug-91' 'Sep-86' 'Jun-90' 'Feb-86' 'Sep-97' 'Jun-84' 'Sep-81'\n",
      " 'Apr-86' 'Aug-79' 'Aug-80' 'Nov-92' 'Sep-93' 'Jun-87' 'Sep-82' 'Aug-92'\n",
      " 'Aug-85' 'Jul-83' 'Jun-91' 'Dec-83' 'Jan-87' 'Nov-78' 'Oct-84' 'Aug-96'\n",
      " 'Nov-89' 'Sep-76' 'Nov-86' 'Oct-87' 'Sep-08' 'May-77' 'May-86' 'Mar-81'\n",
      " 'Jan-83' 'Nov-76' 'Sep-79' 'Oct-83' 'Sep-62' 'Jun-85' 'May-82' 'Feb-88'\n",
      " 'Oct-92' 'Aug-83' 'Jun-73' 'Apr-85' 'Oct-88' 'Oct-81' 'Sep-68' 'Jul-74'\n",
      " 'Nov-87' 'May-95' 'Feb-91' 'Nov-88' 'Mar-93' 'Jun-08' 'Jul-80' 'Dec-82'\n",
      " 'Mar-75' 'Feb-80' 'Apr-88' 'Dec-79' 'Sep-85' 'Sep-71' 'Mar-78' 'Feb-08'\n",
      " 'Aug-78' 'Nov-70' 'Jun-79' 'Jun-80' 'Apr-89' 'Sep-83' 'Feb-89' 'Nov-83'\n",
      " 'Jun-86' 'Oct-82' 'Aug-86' 'Oct-80' 'May-88' 'Dec-85' 'Jan-82' 'Sep-77'\n",
      " 'Dec-76' 'Apr-82' 'May-84' 'Apr-08' 'Feb-79' 'Jan-08' 'Sep-64' 'Jul-87'\n",
      " 'Jan-78' 'May-89' 'Oct-77' 'Dec-75' 'Feb-85' 'Oct-08' 'Nov-82' 'May-75'\n",
      " 'May-85' 'Feb-71' 'Jun-77' 'Apr-81' 'May-79' 'Jan-72' 'Sep-67' 'Apr-78'\n",
      " 'Feb-65' 'Apr-83' 'Nov-75' 'Jun-67' 'Mar-74' 'Jul-72' 'Aug-67' 'Apr-71'\n",
      " 'Sep-84' 'May-81' 'Dec-70' 'Oct-73' 'Jan-71' 'Dec-63' 'Apr-74' 'Jan-80'\n",
      " 'Aug-69' 'Apr-75' 'Jul-77' 'Mar-77' 'Nov-69' 'Jan-76' 'Mar-82' 'Apr-87'\n",
      " 'Dec-69' 'May-74' 'Aug-74' 'Jun-72' 'Mar-63' 'Nov-79' 'Aug-75' 'Sep-74'\n",
      " 'Aug-81' 'May-73' 'Sep-73' 'Mar-73' 'Dec-77' 'Oct-76' 'Jan-74' 'Jan-70'\n",
      " 'Aug-68' 'Feb-76' 'Jan-75' 'Oct-72' 'Dec-74' 'Feb-73' 'Nov-65' 'Mar-72'\n",
      " 'Jun-82' 'Jun-74' 'May-65' 'Jun-71' 'Oct-70' 'Apr-76' 'Oct-71' 'Apr-77'\n",
      " 'Sep-78' 'Oct-78' 'Oct-54' 'Feb-81' 'Jan-77' 'Aug-77' 'Dec-78' 'Aug-76'\n",
      " 'Jun-68' 'Jun-78' 'Jun-69' 'May-80' 'Jan-79' 'Oct-65' 'Nov-74' 'Apr-66'\n",
      " 'Jun-76' 'Feb-72' 'May-76' 'Mar-68' 'Mar-76' 'Jul-70' 'Mar-79' 'Jul-76'\n",
      " 'Jul-82' 'Sep-65' 'Apr-67' 'Oct-63' 'Feb-70' 'Jul-73' 'Feb-78' 'Nov-71'\n",
      " 'Aug-72' 'Jul-75' 'Sep-70' 'Jul-81' 'Oct-64' 'Sep-72' 'May-70' 'May-63'\n",
      " 'Feb-69' 'Nov-80' 'Jul-67' 'Apr-70' 'Nov-77' 'Nov-66' 'May-71' 'Apr-79'\n",
      " 'May-72' 'Feb-68' 'Jul-64' 'Nov-67' 'Apr-64' 'Feb-75' 'Jun-59' 'Sep-56'\n",
      " 'Jun-66' 'Jan-46' 'Mar-66' 'Jan-63' 'Dec-50' 'Jul-69' 'Jan-68' 'Nov-73'\n",
      " 'Jun-70' 'Feb-77' 'Feb-74' 'Jan-73' 'Feb-66' 'Dec-61' 'Aug-73' 'Aug-70'\n",
      " 'Sep-69' 'Sep-75' 'Dec-68' 'Nov-54' 'Oct-69' 'Dec-65' 'Apr-72' 'Nov-72'\n",
      " 'Sep-63' 'Apr-69' 'Nov-62' 'Oct-67' 'May-67' 'Nov-61' 'Feb-67' 'Nov-68'\n",
      " 'Oct-75' 'Mar-71' 'Aug-71' 'Dec-66' 'Oct-68' 'Oct-74' 'Nov-63' 'Apr-68'\n",
      " 'May-69' 'Nov-59' nan 'Oct-10' 'Dec-09' 'Nov-10' 'Jan-10' 'Dec-08'\n",
      " 'Sep-09' 'Jul-10' 'Jan-09' 'May-09' 'May-10' 'Sep-10' 'Apr-09' 'Nov-09'\n",
      " 'Apr-10' 'Mar-09' 'Feb-09' 'Aug-09' 'Oct-09' 'Jun-09' 'Jun-10' 'Jul-09'\n",
      " 'Feb-10' 'Mar-10' 'Aug-10' 'Jan-61' 'Oct-62' 'Jun-64' 'Apr-62' 'Jan-60'\n",
      " 'Sep-66' 'Mar-65' 'May-68' 'Jul-66' 'Dec-56' 'Dec-71' 'Apr-65' 'Jan-64'\n",
      " 'Jul-65' 'Jan-65' 'Jan-62' 'Aug-64' 'Jan-69' 'Oct-66' 'Jun-62' 'Dec-67'\n",
      " 'Oct-60' 'Jul-62' 'Dec-60' 'Jul-60' 'Jun-65' 'May-66' 'Oct-57' 'Aug-65'\n",
      " 'May-60' 'Jan-67' 'Nov-53' 'Oct-59' 'Jun-63' 'Mar-67' 'Jul-63' 'Nov-60'\n",
      " 'Mar-62' 'Mar-64' 'Jul-68' 'Feb-63' 'Jan-66' 'Dec-64' 'May-64' 'Oct-61'\n",
      " 'Aug-60' 'Mar-60' 'Apr-55' 'Sep-59' 'Aug-66' 'Jul-55' 'Aug-61' 'Nov-64'\n",
      " 'May-53' 'Nov-50' 'Nov-55' 'Mar-61' 'Feb-57' 'Aug-63' 'Feb-60' 'Sep-60'\n",
      " 'Feb-64' 'Dec-51' 'Nov-58' 'Aug-62' 'Oct-58' 'May-62' 'Mar-11' 'Jun-11'\n",
      " 'Dec-10' 'Oct-11' 'Sep-11' 'Jul-11' 'Apr-11' 'May-11' 'Jan-11' 'Feb-11'\n",
      " 'Aug-11' 'Apr-63' 'Nov-11' 'Dec-58' 'Jan-58' 'Jul-59' 'Jan-55' 'May-59'\n",
      " 'Aug-46' 'Apr-61' 'Jun-58' 'Jul-58' 'Jun-60' 'Jan-51' 'Dec-62' 'Mar-59'\n",
      " 'Aug-58' 'Jan-59' 'Feb-61' 'Sep-57' 'Jun-49' 'Jun-61' 'Jan-56' 'Jan-54'\n",
      " 'Jan-57' 'Jan-44' 'Oct-50' 'Jan-48' 'Jul-61' 'May-58' 'Jan-53' 'May-50'\n",
      " 'Nov-56']\n",
      "Column: inq_last_6mths - Unique Values: [ 1.  5.  2.  0.  3.  4.  6.  7.  8.  9. 10. 11. 12. 15. 14. 33. 17. 32.\n",
      " 24. 13. 18. 16. 31. 28. 25. 27. 20. 19. nan]\n",
      "Column: mths_since_last_delinq - Unique Values: [ nan  35.  38.  61.   8.  20.  18.  68.  45.  48.  41.  40.  74.  25.\n",
      "  53.  39.  10.  26.  56.  77.  28.  52.  24.  16.  60.  54.  23.   9.\n",
      "  11.  13.  65.  19.  80.  22.  59.  79.  44.  64.  57.  14.  63.  49.\n",
      "  15.  73.  70.  29.  51.   5.  75.  55.   2.  30.  47.  33.  69.   4.\n",
      "  43.  21.  27.  46.  81.  78.  82.  31.  76.  62.  72.  42.  50.   3.\n",
      "  12.  67.  36.  34.  58.  17.  71.  66.  32.   6.  37.   7.   1.  83.\n",
      "  86. 115.  96. 103. 120. 106.  89. 107.  85.  97.  95.   0. 110.  84.\n",
      " 135.  88.  87. 122.  91. 146. 134. 114.  99.  93. 127. 101.  94. 102.\n",
      " 129. 113. 139. 131. 156. 143. 109. 119. 149. 118. 130. 148. 126.  90.\n",
      " 141. 116. 100. 152.  98.  92. 108. 133. 104. 111. 105. 170. 124. 136.\n",
      " 180. 188. 140. 151. 159. 121.]\n",
      "Column: mths_since_last_record - Unique Values: [ nan 113. 105.  97.  33.  93.  52.  85.  90.  91. 114.  92. 117.  87.\n",
      "  45.  83. 118.  38. 101. 100. 112. 110.  88.  79.  77. 107. 102.  98.\n",
      "  95. 103.  96. 116. 111.  89. 108.  29. 106. 115.  53.  86.  57.  63.\n",
      "  94. 109.  99. 104.  76.  61.  28.  23.  75.  47.  82.  21.  62.  44.\n",
      "  80.  67. 119.  42.  34.  66.  58.  22.  56.  72.  64.  50.  69.  49.\n",
      "  74.  35.  12.  26.  78.  54.  37.  73.  11.  31.  59.  32.  81.  68.\n",
      "  55.  39.  51.  70.  30.  41.  71.  40.  43.  27.  65.  46.  19.  17.\n",
      "  25.  13.  48.  36.   7.  60.  14.   6.  18.   0.  20. 120. 129.   5.\n",
      "  24.  15.  84.  10.  16.   8.   9.   3. 121.   4.   1.   2.]\n",
      "Column: open_acc - Unique Values: [ 3.  2. 10. 15.  9.  7.  4. 11. 14. 12. 20.  8.  6. 17.  5. 13. 16. 30.\n",
      " 21. 18. 19. 27. 23. 34. 25. 22. 24. 26. 32. 28. 29. 33. 31. 39. 35. 36.\n",
      " 38. 44. 41. 42.  1. 46. 37. 47. nan 40. 45. 49. 53. 51. 43.  0. 62. 48.\n",
      " 50. 52. 54. 76. 58. 55. 84. 75. 61.]\n",
      "Column: pub_rec - Unique Values: [ 0.  1.  2.  3.  4.  5. nan  6.  9.  8.  7. 11. 49. 10. 54. 12. 18. 19.\n",
      " 16. 15. 14. 40. 63. 13. 21. 34. 17.]\n",
      "Column: revol_bal - Unique Values: [ 13648   1687   2956 ...  31063  46922 119663]\n"
     ]
    },
    {
     "name": "stdout",
     "output_type": "stream",
     "text": [
      "Column: revol_util - Unique Values: [ 83.7   9.4  98.5 ... 111.3 113.  141.8]\n",
      "Column: total_acc - Unique Values: [  9.   4.  10.  37.  38.  12.  11.  13.   3.  23.  34.  29.  28.  42.\n",
      "  14.  22.  21.  17.   7.  31.  44.  26.  16.   6.  18.  27.  24.  25.\n",
      "  40.  35.   8.  20.  15.  19.  36.  51.  32.  30.  33.  46.   5.  61.\n",
      "  56.  50.  41.  39.  79.  62.  43.  47.  53.  45.  60.  55.  52.  58.\n",
      "  54.  57.  49.  63.  48.  59.  77.  87.  75.  72.  64.  67.  78.  76.\n",
      "  74.  66.  81.  90.  80.  71.  69.  73.  70.  68.  65.   2.   1.  nan\n",
      " 105.  83.  84.  98.  88.  82.  91.  99.  86.  93.  92.  96. 101. 150.\n",
      "  95.  85. 156.  89. 106.  97. 119. 124. 100.  94. 121. 102. 117. 116.\n",
      " 118.]\n",
      "Column: initial_list_status - Unique Values: ['f' 'w']\n",
      "Column: out_prncp - Unique Values: [    0.     766.9   1889.15 ... 12574.   14428.31  3984.38]\n",
      "Column: out_prncp_inv - Unique Values: [    0.     766.9   1889.15 ... 12574.   14428.31  3974.41]\n",
      "Column: total_pymnt - Unique Values: [ 5861.071414  1008.71      3003.653644 ... 12343.98      2126.579838\n",
      "  8821.62    ]\n",
      "Column: total_pymnt_inv - Unique Values: [ 5831.78  1008.71  3003.65 ... 12343.98  2126.58  8799.57]\n",
      "Column: total_rec_prncp - Unique Values: [5000.    456.46 2400.   ... 5826.   1837.04 6015.62]\n",
      "Column: total_rec_int - Unique Values: [ 861.07  435.17  603.65 ... 5338.68 4557.36 6072.29]\n",
      "Column: total_rec_late_fee - Unique Values: [ 0.   16.97 15.   ... 35.67 37.43 41.15]\n",
      "Column: recoveries - Unique Values: [   0.    117.08  189.06 ... 1519.    682.95 1159.4 ]\n",
      "Column: collection_recovery_fee - Unique Values: [ 0.      1.11    2.09   ... 44.7043  6.8295 11.594 ]\n",
      "Column: last_pymnt_d - Unique Values: ['Jan-15' 'Apr-13' 'Jun-14' 'Jan-16' 'Apr-12' 'Nov-12' 'Jun-13' 'Sep-13'\n",
      " 'Jul-12' 'Oct-13' 'May-13' 'Feb-15' 'Aug-15' 'Oct-12' 'Sep-12' nan\n",
      " 'Dec-12' 'Dec-14' 'Aug-13' 'Nov-13' 'Jan-14' 'Apr-14' 'Aug-14' 'Oct-14'\n",
      " 'Aug-12' 'Jul-14' 'Jul-13' 'Apr-15' 'Feb-14' 'Sep-14' 'Jun-12' 'Feb-13'\n",
      " 'Mar-13' 'May-14' 'Mar-15' 'Jan-13' 'Dec-13' 'Feb-12' 'Mar-14' 'Sep-15'\n",
      " 'Nov-15' 'Dec-15' 'Jan-12' 'Oct-15' 'Nov-14' 'Mar-12' 'May-12' 'Jun-15'\n",
      " 'May-15' 'Jul-15' 'Dec-11' 'Nov-11' 'Oct-11' 'Sep-11' 'Aug-11' 'Jul-11'\n",
      " 'Jun-11' 'May-11' 'Apr-11' 'Mar-11' 'Feb-11' 'Jan-11' 'Dec-10' 'Nov-10'\n",
      " 'Oct-10' 'Sep-10' 'Aug-10' 'Jul-10' 'Jun-10' 'May-10' 'Apr-10' 'Mar-10'\n",
      " 'Feb-10' 'Jan-10' 'Dec-09' 'Nov-09' 'Oct-09' 'Sep-09' 'Aug-09' 'Jul-09'\n",
      " 'Jun-09' 'May-09' 'Apr-09' 'Mar-09' 'Feb-09' 'Jan-09' 'Dec-08' 'Oct-08'\n",
      " 'Aug-08' 'Jul-08' 'Sep-08' 'Jun-08' 'May-08' 'Nov-08' 'Apr-08' 'Mar-08'\n",
      " 'Feb-08' 'Jan-08' 'Dec-07']\n",
      "Column: last_pymnt_amnt - Unique Values: [ 171.62  119.66  649.91 ... 5501.6    17.5  1500.68]\n",
      "Column: next_pymnt_d - Unique Values: [nan 'Feb-16' 'Jan-16' 'Sep-13' 'Feb-14' 'May-14' 'Jun-13' 'Mar-12'\n",
      " 'Apr-12' 'May-13' 'Aug-12' 'Aug-13' 'Jun-12' 'Nov-13' 'Feb-12' 'Oct-11'\n",
      " 'Jan-13' 'Jan-14' 'Jul-13' 'Jul-15' 'Jan-12' 'Dec-12' 'Jun-11' 'Feb-13'\n",
      " 'Nov-11' 'Nov-12' 'Dec-11' 'Aug-11' 'Sep-11' 'Apr-11' 'Mar-14' 'Apr-13'\n",
      " 'Mar-11' 'Jul-12' 'Aug-14' 'Oct-13' 'Sep-12' 'May-12' 'Apr-15' 'Jul-11'\n",
      " 'Dec-15' 'Dec-13' 'Jan-11' 'Oct-12' 'Nov-14' 'Mar-13' 'Aug-15' 'Feb-15'\n",
      " 'May-15' 'Jul-14' 'Nov-15' 'Sep-14' 'Oct-15' 'May-11' 'Feb-11' 'Dec-14'\n",
      " 'Jun-15' 'Apr-14' 'Jan-15' 'Sep-15' 'Jun-14' 'Nov-10' 'Oct-10' 'Dec-10'\n",
      " 'Mar-15' 'Oct-14' 'Jul-10' 'Sep-10' 'May-10' 'Aug-10' 'Mar-10' 'Jun-10'\n",
      " 'Apr-10' 'Feb-10' 'Dec-09' 'Nov-09' 'Oct-09' 'Jan-10' 'Sep-09' 'Jun-09'\n",
      " 'Aug-09' 'Jul-09' 'May-09' 'Apr-09' 'Jan-09' 'Oct-08' 'Feb-09' 'Nov-08'\n",
      " 'Sep-08' 'Mar-09' 'Dec-08' 'Aug-08' 'Jun-08' 'Jul-08' 'Apr-08' 'May-08'\n",
      " 'Feb-08' 'Jan-08' 'Mar-08' 'Dec-07' 'Mar-16']\n",
      "Column: last_credit_pull_d - Unique Values: ['Jan-16' 'Sep-13' 'Jan-15' 'Sep-15' 'Dec-14' 'Aug-12' 'Mar-13' 'Dec-15'\n",
      " 'Aug-13' 'Nov-12' 'Mar-14' 'Apr-15' 'May-14' 'Jul-15' 'Jul-12' 'Sep-12'\n",
      " 'May-13' 'Oct-15' 'Jun-12' 'Mar-15' 'Dec-12' 'Jul-14' 'Sep-14' 'Feb-14'\n",
      " 'Jun-15' 'Oct-13' 'Apr-14' 'Oct-14' 'Feb-13' 'Nov-15' 'Oct-12' 'Nov-13'\n",
      " 'Nov-14' 'Feb-12' 'Apr-12' 'Aug-15' 'Jun-14' 'Jan-12' 'Aug-14' 'Jun-13'\n",
      " 'Dec-13' 'May-12' 'Jan-14' 'Jul-13' 'Apr-13' 'May-15' 'Feb-15' 'Mar-12'\n",
      " 'Nov-11' 'Dec-11' 'Jan-13' 'Oct-11' 'Sep-11' 'Aug-11' 'Jul-11' 'Jun-11'\n",
      " 'May-11' 'Apr-11' 'Mar-11' 'Feb-11' 'Jan-11' 'Dec-10' 'Nov-10' 'Oct-10'\n",
      " nan 'Sep-10' 'Aug-10' 'Jul-10' 'Jun-10' 'May-10' 'Apr-10' 'Feb-10'\n",
      " 'Mar-10' 'Aug-07' 'Jan-10' 'Dec-09' 'Nov-09' 'Oct-09' 'Sep-09' 'Jul-09'\n",
      " 'Aug-09' 'Jun-09' 'May-09' 'Apr-09' 'Mar-09' 'Feb-09' 'Jan-09' 'Dec-08'\n",
      " 'Jun-08' 'Sep-08' 'May-08' 'Aug-08' 'Mar-08' 'Oct-08' 'Feb-08' 'Jan-08'\n",
      " 'Dec-07' 'Jul-08' 'Oct-07' 'Sep-07' 'Jun-07' 'May-07' 'Jul-07' 'Nov-07']\n",
      "Column: collections_12_mths_ex_med - Unique Values: [ 0. nan  1.  2.  4.  3.  6. 16. 20.  5.]\n",
      "Column: mths_since_last_major_derog - Unique Values: [ nan  53.  34.  54.  69.   7.  16.  71.  33.  59.  45.   8.  56.  11.\n",
      "  50.  47.  64.  32.  62.  39.  70.  76.  49.  68.  46.  74.  60.  77.\n",
      "  43.  51.  52.  48.  58.  10.  72.  19.  27.  22.  23.  40.  57.  35.\n",
      "  61.  73.  30.  18.  25.  63.  44.  28.  21.  41.  31.  80.  67.  65.\n",
      "  13.  26.  75.  15.  12.  14.  81.   5.  29.   6.  38.  37.  42.   4.\n",
      "  17.   9.  24.  94. 138.  66.  79.  20.  36. 110.   1.  84.  55.  78.\n",
      "   2.   3.  82. 100. 111. 102.  93. 135. 152.  95.  92. 115.  86.  88.\n",
      " 123. 106.  83.  87.  85. 122.  89.   0. 109.  91. 146. 134. 114.  99.\n",
      "  97.  96.  90. 165. 127. 119. 101. 124. 129. 113. 120. 139. 131. 112.\n",
      " 156. 143. 149. 118. 130. 104. 148. 126. 141. 116. 133. 137. 108. 169.\n",
      "  98. 103. 105. 125. 128. 142. 117. 132. 154. 121. 107. 147. 144. 151.\n",
      " 140. 136. 162. 170. 180. 188. 150. 159. 145.]\n",
      "Column: policy_code - Unique Values: [1]\n",
      "Column: application_type - Unique Values: ['INDIVIDUAL']\n",
      "Column: annual_inc_joint - Unique Values: [nan]\n",
      "Column: dti_joint - Unique Values: [nan]\n",
      "Column: verification_status_joint - Unique Values: [nan]\n",
      "Column: acc_now_delinq - Unique Values: [ 0.  1. nan  2.  3.  5.  4.]\n",
      "Column: tot_coll_amt - Unique Values: [   nan     0. 15386. ... 16125.  9778.  6532.]\n",
      "Column: tot_cur_bal - Unique Values: [    nan 114834.  14123. ... 294998. 591610.  57477.]\n",
      "Column: open_acc_6m - Unique Values: [nan]\n",
      "Column: open_il_6m - Unique Values: [nan]\n",
      "Column: open_il_12m - Unique Values: [nan]\n",
      "Column: open_il_24m - Unique Values: [nan]\n",
      "Column: mths_since_rcnt_il - Unique Values: [nan]\n",
      "Column: total_bal_il - Unique Values: [nan]\n",
      "Column: il_util - Unique Values: [nan]\n",
      "Column: open_rv_12m - Unique Values: [nan]\n",
      "Column: open_rv_24m - Unique Values: [nan]\n",
      "Column: max_bal_bc - Unique Values: [nan]\n",
      "Column: all_util - Unique Values: [nan]\n",
      "Column: total_rev_hi_lim - Unique Values: [    nan  59900.  15100. ... 102342.  71491. 479500.]\n",
      "Column: inq_fi - Unique Values: [nan]\n",
      "Column: total_cu_tl - Unique Values: [nan]\n",
      "Column: inq_last_12m - Unique Values: [nan]\n"
     ]
    }
   ],
   "source": [
    "for column in data: \n",
    "    print('Column: {} - Unique Values: {}'.format(column, data[column].unique()))"
   ]
  },
  {
   "cell_type": "markdown",
   "id": "dde186b9",
   "metadata": {},
   "source": [
    "After loading the dataset, I examine its shape, the column included, and unique value inside each column to get a better sense of the data and the information it contains."
   ]
  },
  {
   "cell_type": "markdown",
   "id": "9442a5e0",
   "metadata": {},
   "source": [
    "#### Summary statistic for numerical features"
   ]
  },
  {
   "cell_type": "code",
   "execution_count": 7,
   "id": "3df5ee9b",
   "metadata": {},
   "outputs": [
    {
     "data": {
      "text/html": [
       "<div>\n",
       "<style scoped>\n",
       "    .dataframe tbody tr th:only-of-type {\n",
       "        vertical-align: middle;\n",
       "    }\n",
       "\n",
       "    .dataframe tbody tr th {\n",
       "        vertical-align: top;\n",
       "    }\n",
       "\n",
       "    .dataframe thead th {\n",
       "        text-align: right;\n",
       "    }\n",
       "</style>\n",
       "<table border=\"1\" class=\"dataframe\">\n",
       "  <thead>\n",
       "    <tr style=\"text-align: right;\">\n",
       "      <th></th>\n",
       "      <th>Unnamed: 0</th>\n",
       "      <th>id</th>\n",
       "      <th>member_id</th>\n",
       "      <th>loan_amnt</th>\n",
       "      <th>funded_amnt</th>\n",
       "      <th>funded_amnt_inv</th>\n",
       "      <th>int_rate</th>\n",
       "      <th>installment</th>\n",
       "      <th>annual_inc</th>\n",
       "      <th>dti</th>\n",
       "      <th>...</th>\n",
       "      <th>total_bal_il</th>\n",
       "      <th>il_util</th>\n",
       "      <th>open_rv_12m</th>\n",
       "      <th>open_rv_24m</th>\n",
       "      <th>max_bal_bc</th>\n",
       "      <th>all_util</th>\n",
       "      <th>total_rev_hi_lim</th>\n",
       "      <th>inq_fi</th>\n",
       "      <th>total_cu_tl</th>\n",
       "      <th>inq_last_12m</th>\n",
       "    </tr>\n",
       "  </thead>\n",
       "  <tbody>\n",
       "    <tr>\n",
       "      <th>count</th>\n",
       "      <td>466285.000000</td>\n",
       "      <td>4.662850e+05</td>\n",
       "      <td>4.662850e+05</td>\n",
       "      <td>466285.000000</td>\n",
       "      <td>466285.000000</td>\n",
       "      <td>466285.000000</td>\n",
       "      <td>466285.000000</td>\n",
       "      <td>466285.000000</td>\n",
       "      <td>4.662810e+05</td>\n",
       "      <td>466285.000000</td>\n",
       "      <td>...</td>\n",
       "      <td>0.0</td>\n",
       "      <td>0.0</td>\n",
       "      <td>0.0</td>\n",
       "      <td>0.0</td>\n",
       "      <td>0.0</td>\n",
       "      <td>0.0</td>\n",
       "      <td>3.960090e+05</td>\n",
       "      <td>0.0</td>\n",
       "      <td>0.0</td>\n",
       "      <td>0.0</td>\n",
       "    </tr>\n",
       "    <tr>\n",
       "      <th>mean</th>\n",
       "      <td>233142.000000</td>\n",
       "      <td>1.307973e+07</td>\n",
       "      <td>1.459766e+07</td>\n",
       "      <td>14317.277577</td>\n",
       "      <td>14291.801044</td>\n",
       "      <td>14222.329888</td>\n",
       "      <td>13.829236</td>\n",
       "      <td>432.061201</td>\n",
       "      <td>7.327738e+04</td>\n",
       "      <td>17.218758</td>\n",
       "      <td>...</td>\n",
       "      <td>NaN</td>\n",
       "      <td>NaN</td>\n",
       "      <td>NaN</td>\n",
       "      <td>NaN</td>\n",
       "      <td>NaN</td>\n",
       "      <td>NaN</td>\n",
       "      <td>3.037909e+04</td>\n",
       "      <td>NaN</td>\n",
       "      <td>NaN</td>\n",
       "      <td>NaN</td>\n",
       "    </tr>\n",
       "    <tr>\n",
       "      <th>std</th>\n",
       "      <td>134605.029472</td>\n",
       "      <td>1.089371e+07</td>\n",
       "      <td>1.168237e+07</td>\n",
       "      <td>8286.509164</td>\n",
       "      <td>8274.371300</td>\n",
       "      <td>8297.637788</td>\n",
       "      <td>4.357587</td>\n",
       "      <td>243.485550</td>\n",
       "      <td>5.496357e+04</td>\n",
       "      <td>7.851121</td>\n",
       "      <td>...</td>\n",
       "      <td>NaN</td>\n",
       "      <td>NaN</td>\n",
       "      <td>NaN</td>\n",
       "      <td>NaN</td>\n",
       "      <td>NaN</td>\n",
       "      <td>NaN</td>\n",
       "      <td>3.724713e+04</td>\n",
       "      <td>NaN</td>\n",
       "      <td>NaN</td>\n",
       "      <td>NaN</td>\n",
       "    </tr>\n",
       "    <tr>\n",
       "      <th>min</th>\n",
       "      <td>0.000000</td>\n",
       "      <td>5.473400e+04</td>\n",
       "      <td>7.047300e+04</td>\n",
       "      <td>500.000000</td>\n",
       "      <td>500.000000</td>\n",
       "      <td>0.000000</td>\n",
       "      <td>5.420000</td>\n",
       "      <td>15.670000</td>\n",
       "      <td>1.896000e+03</td>\n",
       "      <td>0.000000</td>\n",
       "      <td>...</td>\n",
       "      <td>NaN</td>\n",
       "      <td>NaN</td>\n",
       "      <td>NaN</td>\n",
       "      <td>NaN</td>\n",
       "      <td>NaN</td>\n",
       "      <td>NaN</td>\n",
       "      <td>0.000000e+00</td>\n",
       "      <td>NaN</td>\n",
       "      <td>NaN</td>\n",
       "      <td>NaN</td>\n",
       "    </tr>\n",
       "    <tr>\n",
       "      <th>25%</th>\n",
       "      <td>116571.000000</td>\n",
       "      <td>3.639987e+06</td>\n",
       "      <td>4.379705e+06</td>\n",
       "      <td>8000.000000</td>\n",
       "      <td>8000.000000</td>\n",
       "      <td>8000.000000</td>\n",
       "      <td>10.990000</td>\n",
       "      <td>256.690000</td>\n",
       "      <td>4.500000e+04</td>\n",
       "      <td>11.360000</td>\n",
       "      <td>...</td>\n",
       "      <td>NaN</td>\n",
       "      <td>NaN</td>\n",
       "      <td>NaN</td>\n",
       "      <td>NaN</td>\n",
       "      <td>NaN</td>\n",
       "      <td>NaN</td>\n",
       "      <td>1.350000e+04</td>\n",
       "      <td>NaN</td>\n",
       "      <td>NaN</td>\n",
       "      <td>NaN</td>\n",
       "    </tr>\n",
       "    <tr>\n",
       "      <th>50%</th>\n",
       "      <td>233142.000000</td>\n",
       "      <td>1.010790e+07</td>\n",
       "      <td>1.194108e+07</td>\n",
       "      <td>12000.000000</td>\n",
       "      <td>12000.000000</td>\n",
       "      <td>12000.000000</td>\n",
       "      <td>13.660000</td>\n",
       "      <td>379.890000</td>\n",
       "      <td>6.300000e+04</td>\n",
       "      <td>16.870000</td>\n",
       "      <td>...</td>\n",
       "      <td>NaN</td>\n",
       "      <td>NaN</td>\n",
       "      <td>NaN</td>\n",
       "      <td>NaN</td>\n",
       "      <td>NaN</td>\n",
       "      <td>NaN</td>\n",
       "      <td>2.280000e+04</td>\n",
       "      <td>NaN</td>\n",
       "      <td>NaN</td>\n",
       "      <td>NaN</td>\n",
       "    </tr>\n",
       "    <tr>\n",
       "      <th>75%</th>\n",
       "      <td>349713.000000</td>\n",
       "      <td>2.073121e+07</td>\n",
       "      <td>2.300154e+07</td>\n",
       "      <td>20000.000000</td>\n",
       "      <td>20000.000000</td>\n",
       "      <td>19950.000000</td>\n",
       "      <td>16.490000</td>\n",
       "      <td>566.580000</td>\n",
       "      <td>8.896000e+04</td>\n",
       "      <td>22.780000</td>\n",
       "      <td>...</td>\n",
       "      <td>NaN</td>\n",
       "      <td>NaN</td>\n",
       "      <td>NaN</td>\n",
       "      <td>NaN</td>\n",
       "      <td>NaN</td>\n",
       "      <td>NaN</td>\n",
       "      <td>3.790000e+04</td>\n",
       "      <td>NaN</td>\n",
       "      <td>NaN</td>\n",
       "      <td>NaN</td>\n",
       "    </tr>\n",
       "    <tr>\n",
       "      <th>max</th>\n",
       "      <td>466284.000000</td>\n",
       "      <td>3.809811e+07</td>\n",
       "      <td>4.086083e+07</td>\n",
       "      <td>35000.000000</td>\n",
       "      <td>35000.000000</td>\n",
       "      <td>35000.000000</td>\n",
       "      <td>26.060000</td>\n",
       "      <td>1409.990000</td>\n",
       "      <td>7.500000e+06</td>\n",
       "      <td>39.990000</td>\n",
       "      <td>...</td>\n",
       "      <td>NaN</td>\n",
       "      <td>NaN</td>\n",
       "      <td>NaN</td>\n",
       "      <td>NaN</td>\n",
       "      <td>NaN</td>\n",
       "      <td>NaN</td>\n",
       "      <td>9.999999e+06</td>\n",
       "      <td>NaN</td>\n",
       "      <td>NaN</td>\n",
       "      <td>NaN</td>\n",
       "    </tr>\n",
       "  </tbody>\n",
       "</table>\n",
       "<p>8 rows × 53 columns</p>\n",
       "</div>"
      ],
      "text/plain": [
       "          Unnamed: 0            id     member_id      loan_amnt  \\\n",
       "count  466285.000000  4.662850e+05  4.662850e+05  466285.000000   \n",
       "mean   233142.000000  1.307973e+07  1.459766e+07   14317.277577   \n",
       "std    134605.029472  1.089371e+07  1.168237e+07    8286.509164   \n",
       "min         0.000000  5.473400e+04  7.047300e+04     500.000000   \n",
       "25%    116571.000000  3.639987e+06  4.379705e+06    8000.000000   \n",
       "50%    233142.000000  1.010790e+07  1.194108e+07   12000.000000   \n",
       "75%    349713.000000  2.073121e+07  2.300154e+07   20000.000000   \n",
       "max    466284.000000  3.809811e+07  4.086083e+07   35000.000000   \n",
       "\n",
       "         funded_amnt  funded_amnt_inv       int_rate    installment  \\\n",
       "count  466285.000000    466285.000000  466285.000000  466285.000000   \n",
       "mean    14291.801044     14222.329888      13.829236     432.061201   \n",
       "std      8274.371300      8297.637788       4.357587     243.485550   \n",
       "min       500.000000         0.000000       5.420000      15.670000   \n",
       "25%      8000.000000      8000.000000      10.990000     256.690000   \n",
       "50%     12000.000000     12000.000000      13.660000     379.890000   \n",
       "75%     20000.000000     19950.000000      16.490000     566.580000   \n",
       "max     35000.000000     35000.000000      26.060000    1409.990000   \n",
       "\n",
       "         annual_inc            dti  ...  total_bal_il  il_util  open_rv_12m  \\\n",
       "count  4.662810e+05  466285.000000  ...           0.0      0.0          0.0   \n",
       "mean   7.327738e+04      17.218758  ...           NaN      NaN          NaN   \n",
       "std    5.496357e+04       7.851121  ...           NaN      NaN          NaN   \n",
       "min    1.896000e+03       0.000000  ...           NaN      NaN          NaN   \n",
       "25%    4.500000e+04      11.360000  ...           NaN      NaN          NaN   \n",
       "50%    6.300000e+04      16.870000  ...           NaN      NaN          NaN   \n",
       "75%    8.896000e+04      22.780000  ...           NaN      NaN          NaN   \n",
       "max    7.500000e+06      39.990000  ...           NaN      NaN          NaN   \n",
       "\n",
       "       open_rv_24m  max_bal_bc  all_util  total_rev_hi_lim  inq_fi  \\\n",
       "count          0.0         0.0       0.0      3.960090e+05     0.0   \n",
       "mean           NaN         NaN       NaN      3.037909e+04     NaN   \n",
       "std            NaN         NaN       NaN      3.724713e+04     NaN   \n",
       "min            NaN         NaN       NaN      0.000000e+00     NaN   \n",
       "25%            NaN         NaN       NaN      1.350000e+04     NaN   \n",
       "50%            NaN         NaN       NaN      2.280000e+04     NaN   \n",
       "75%            NaN         NaN       NaN      3.790000e+04     NaN   \n",
       "max            NaN         NaN       NaN      9.999999e+06     NaN   \n",
       "\n",
       "       total_cu_tl  inq_last_12m  \n",
       "count          0.0           0.0  \n",
       "mean           NaN           NaN  \n",
       "std            NaN           NaN  \n",
       "min            NaN           NaN  \n",
       "25%            NaN           NaN  \n",
       "50%            NaN           NaN  \n",
       "75%            NaN           NaN  \n",
       "max            NaN           NaN  \n",
       "\n",
       "[8 rows x 53 columns]"
      ]
     },
     "execution_count": 7,
     "metadata": {},
     "output_type": "execute_result"
    }
   ],
   "source": [
    "numerical_data = data.select_dtypes(include=[np.number])\n",
    "numerical_data.describe()"
   ]
  },
  {
   "cell_type": "markdown",
   "id": "739d7c22",
   "metadata": {},
   "source": [
    "#### Summary statistic for categorical data"
   ]
  },
  {
   "cell_type": "code",
   "execution_count": 8,
   "id": "9609759d",
   "metadata": {},
   "outputs": [
    {
     "data": {
      "text/html": [
       "<div>\n",
       "<style scoped>\n",
       "    .dataframe tbody tr th:only-of-type {\n",
       "        vertical-align: middle;\n",
       "    }\n",
       "\n",
       "    .dataframe tbody tr th {\n",
       "        vertical-align: top;\n",
       "    }\n",
       "\n",
       "    .dataframe thead th {\n",
       "        text-align: right;\n",
       "    }\n",
       "</style>\n",
       "<table border=\"1\" class=\"dataframe\">\n",
       "  <thead>\n",
       "    <tr style=\"text-align: right;\">\n",
       "      <th></th>\n",
       "      <th>count</th>\n",
       "      <th>unique</th>\n",
       "      <th>top</th>\n",
       "      <th>freq</th>\n",
       "    </tr>\n",
       "  </thead>\n",
       "  <tbody>\n",
       "    <tr>\n",
       "      <th>term</th>\n",
       "      <td>466285</td>\n",
       "      <td>2</td>\n",
       "      <td>36 months</td>\n",
       "      <td>337953</td>\n",
       "    </tr>\n",
       "    <tr>\n",
       "      <th>grade</th>\n",
       "      <td>466285</td>\n",
       "      <td>7</td>\n",
       "      <td>B</td>\n",
       "      <td>136929</td>\n",
       "    </tr>\n",
       "    <tr>\n",
       "      <th>sub_grade</th>\n",
       "      <td>466285</td>\n",
       "      <td>35</td>\n",
       "      <td>B3</td>\n",
       "      <td>31686</td>\n",
       "    </tr>\n",
       "    <tr>\n",
       "      <th>emp_title</th>\n",
       "      <td>438697</td>\n",
       "      <td>205475</td>\n",
       "      <td>Teacher</td>\n",
       "      <td>5399</td>\n",
       "    </tr>\n",
       "    <tr>\n",
       "      <th>emp_length</th>\n",
       "      <td>445277</td>\n",
       "      <td>11</td>\n",
       "      <td>10+ years</td>\n",
       "      <td>150049</td>\n",
       "    </tr>\n",
       "    <tr>\n",
       "      <th>home_ownership</th>\n",
       "      <td>466285</td>\n",
       "      <td>6</td>\n",
       "      <td>MORTGAGE</td>\n",
       "      <td>235875</td>\n",
       "    </tr>\n",
       "    <tr>\n",
       "      <th>verification_status</th>\n",
       "      <td>466285</td>\n",
       "      <td>3</td>\n",
       "      <td>Verified</td>\n",
       "      <td>168055</td>\n",
       "    </tr>\n",
       "    <tr>\n",
       "      <th>issue_d</th>\n",
       "      <td>466285</td>\n",
       "      <td>91</td>\n",
       "      <td>Oct-14</td>\n",
       "      <td>38782</td>\n",
       "    </tr>\n",
       "    <tr>\n",
       "      <th>loan_status</th>\n",
       "      <td>466285</td>\n",
       "      <td>9</td>\n",
       "      <td>Current</td>\n",
       "      <td>224226</td>\n",
       "    </tr>\n",
       "    <tr>\n",
       "      <th>pymnt_plan</th>\n",
       "      <td>466285</td>\n",
       "      <td>2</td>\n",
       "      <td>n</td>\n",
       "      <td>466276</td>\n",
       "    </tr>\n",
       "    <tr>\n",
       "      <th>url</th>\n",
       "      <td>466285</td>\n",
       "      <td>466285</td>\n",
       "      <td>https://www.lendingclub.com/browse/loanDetail....</td>\n",
       "      <td>1</td>\n",
       "    </tr>\n",
       "    <tr>\n",
       "      <th>desc</th>\n",
       "      <td>125983</td>\n",
       "      <td>124436</td>\n",
       "      <td></td>\n",
       "      <td>234</td>\n",
       "    </tr>\n",
       "    <tr>\n",
       "      <th>purpose</th>\n",
       "      <td>466285</td>\n",
       "      <td>14</td>\n",
       "      <td>debt_consolidation</td>\n",
       "      <td>274195</td>\n",
       "    </tr>\n",
       "    <tr>\n",
       "      <th>title</th>\n",
       "      <td>466265</td>\n",
       "      <td>63099</td>\n",
       "      <td>Debt consolidation</td>\n",
       "      <td>164075</td>\n",
       "    </tr>\n",
       "    <tr>\n",
       "      <th>zip_code</th>\n",
       "      <td>466285</td>\n",
       "      <td>888</td>\n",
       "      <td>945xx</td>\n",
       "      <td>5304</td>\n",
       "    </tr>\n",
       "    <tr>\n",
       "      <th>addr_state</th>\n",
       "      <td>466285</td>\n",
       "      <td>50</td>\n",
       "      <td>CA</td>\n",
       "      <td>71450</td>\n",
       "    </tr>\n",
       "    <tr>\n",
       "      <th>earliest_cr_line</th>\n",
       "      <td>466256</td>\n",
       "      <td>664</td>\n",
       "      <td>Oct-00</td>\n",
       "      <td>3674</td>\n",
       "    </tr>\n",
       "    <tr>\n",
       "      <th>initial_list_status</th>\n",
       "      <td>466285</td>\n",
       "      <td>2</td>\n",
       "      <td>f</td>\n",
       "      <td>303005</td>\n",
       "    </tr>\n",
       "    <tr>\n",
       "      <th>last_pymnt_d</th>\n",
       "      <td>465909</td>\n",
       "      <td>98</td>\n",
       "      <td>Jan-16</td>\n",
       "      <td>179620</td>\n",
       "    </tr>\n",
       "    <tr>\n",
       "      <th>next_pymnt_d</th>\n",
       "      <td>239071</td>\n",
       "      <td>100</td>\n",
       "      <td>Feb-16</td>\n",
       "      <td>208393</td>\n",
       "    </tr>\n",
       "    <tr>\n",
       "      <th>last_credit_pull_d</th>\n",
       "      <td>466243</td>\n",
       "      <td>103</td>\n",
       "      <td>Jan-16</td>\n",
       "      <td>327699</td>\n",
       "    </tr>\n",
       "    <tr>\n",
       "      <th>application_type</th>\n",
       "      <td>466285</td>\n",
       "      <td>1</td>\n",
       "      <td>INDIVIDUAL</td>\n",
       "      <td>466285</td>\n",
       "    </tr>\n",
       "  </tbody>\n",
       "</table>\n",
       "</div>"
      ],
      "text/plain": [
       "                      count  unique  \\\n",
       "term                 466285       2   \n",
       "grade                466285       7   \n",
       "sub_grade            466285      35   \n",
       "emp_title            438697  205475   \n",
       "emp_length           445277      11   \n",
       "home_ownership       466285       6   \n",
       "verification_status  466285       3   \n",
       "issue_d              466285      91   \n",
       "loan_status          466285       9   \n",
       "pymnt_plan           466285       2   \n",
       "url                  466285  466285   \n",
       "desc                 125983  124436   \n",
       "purpose              466285      14   \n",
       "title                466265   63099   \n",
       "zip_code             466285     888   \n",
       "addr_state           466285      50   \n",
       "earliest_cr_line     466256     664   \n",
       "initial_list_status  466285       2   \n",
       "last_pymnt_d         465909      98   \n",
       "next_pymnt_d         239071     100   \n",
       "last_credit_pull_d   466243     103   \n",
       "application_type     466285       1   \n",
       "\n",
       "                                                                   top    freq  \n",
       "term                                                         36 months  337953  \n",
       "grade                                                                B  136929  \n",
       "sub_grade                                                           B3   31686  \n",
       "emp_title                                                      Teacher    5399  \n",
       "emp_length                                                   10+ years  150049  \n",
       "home_ownership                                                MORTGAGE  235875  \n",
       "verification_status                                           Verified  168055  \n",
       "issue_d                                                         Oct-14   38782  \n",
       "loan_status                                                    Current  224226  \n",
       "pymnt_plan                                                           n  466276  \n",
       "url                  https://www.lendingclub.com/browse/loanDetail....       1  \n",
       "desc                                                                       234  \n",
       "purpose                                             debt_consolidation  274195  \n",
       "title                                               Debt consolidation  164075  \n",
       "zip_code                                                         945xx    5304  \n",
       "addr_state                                                          CA   71450  \n",
       "earliest_cr_line                                                Oct-00    3674  \n",
       "initial_list_status                                                  f  303005  \n",
       "last_pymnt_d                                                    Jan-16  179620  \n",
       "next_pymnt_d                                                    Feb-16  208393  \n",
       "last_credit_pull_d                                              Jan-16  327699  \n",
       "application_type                                            INDIVIDUAL  466285  "
      ]
     },
     "execution_count": 8,
     "metadata": {},
     "output_type": "execute_result"
    }
   ],
   "source": [
    "categorical_data = data.select_dtypes(include=[object])\n",
    "categorical_data.describe().T"
   ]
  },
  {
   "cell_type": "markdown",
   "id": "06b0ff8f",
   "metadata": {},
   "source": [
    "### Data Cleaning"
   ]
  },
  {
   "cell_type": "code",
   "execution_count": 9,
   "id": "2c9978ee",
   "metadata": {},
   "outputs": [],
   "source": [
    "data=data.drop(['inq_fi', 'total_cu_tl', 'inq_last_12m','open_acc_6m', 'open_il_6m', 'open_il_12m',\n",
    "       'open_il_24m', 'mths_since_rcnt_il', 'total_bal_il', 'il_util',\n",
    "       'open_rv_12m', 'open_rv_24m', 'max_bal_bc', 'all_util','annual_inc_joint', 'dti_joint',\n",
    "       'verification_status_joint','Unnamed: 0', 'id', 'member_id','desc','pymnt_plan','zip_code','url','delinq_2yrs','last_pymnt_d','next_pymnt_d','last_credit_pull_d','earliest_cr_line','issue_d','emp_title','title','addr_state','sub_grade','home_ownership'], axis=1)"
   ]
  },
  {
   "cell_type": "markdown",
   "id": "4bbd51fd",
   "metadata": {},
   "source": [
    "Remove the features that obviously won’t add any value to the model."
   ]
  },
  {
   "cell_type": "markdown",
   "id": "cf1f1b59",
   "metadata": {},
   "source": [
    "#### Null handiling"
   ]
  },
  {
   "cell_type": "code",
   "execution_count": 10,
   "id": "2a9aac5c",
   "metadata": {
    "scrolled": true
   },
   "outputs": [
    {
     "data": {
      "text/plain": [
       "loan_amnt                           0\n",
       "funded_amnt                         0\n",
       "funded_amnt_inv                     0\n",
       "term                                0\n",
       "int_rate                            0\n",
       "installment                         0\n",
       "grade                               0\n",
       "emp_length                      21008\n",
       "annual_inc                          4\n",
       "verification_status                 0\n",
       "loan_status                         0\n",
       "purpose                             0\n",
       "dti                                 0\n",
       "inq_last_6mths                     29\n",
       "mths_since_last_delinq         250351\n",
       "mths_since_last_record         403647\n",
       "open_acc                           29\n",
       "pub_rec                            29\n",
       "revol_bal                           0\n",
       "revol_util                        340\n",
       "total_acc                          29\n",
       "initial_list_status                 0\n",
       "out_prncp                           0\n",
       "out_prncp_inv                       0\n",
       "total_pymnt                         0\n",
       "total_pymnt_inv                     0\n",
       "total_rec_prncp                     0\n",
       "total_rec_int                       0\n",
       "total_rec_late_fee                  0\n",
       "recoveries                          0\n",
       "collection_recovery_fee             0\n",
       "last_pymnt_amnt                     0\n",
       "collections_12_mths_ex_med        145\n",
       "mths_since_last_major_derog    367311\n",
       "policy_code                         0\n",
       "application_type                    0\n",
       "acc_now_delinq                     29\n",
       "tot_coll_amt                    70276\n",
       "tot_cur_bal                     70276\n",
       "total_rev_hi_lim                70276\n",
       "dtype: int64"
      ]
     },
     "execution_count": 10,
     "metadata": {},
     "output_type": "execute_result"
    }
   ],
   "source": [
    "data.isna().sum()"
   ]
  },
  {
   "cell_type": "markdown",
   "id": "de7788b6",
   "metadata": {},
   "source": [
    "From the entry totals above, there appears to be missing data. "
   ]
  },
  {
   "cell_type": "code",
   "execution_count": 11,
   "id": "e326605a",
   "metadata": {},
   "outputs": [],
   "source": [
    "data = data.dropna(subset=['emp_length','annual_inc', 'inq_last_6mths','pub_rec', 'revol_bal', 'revol_util', 'total_acc','last_pymnt_amnt',\n",
    "       'collections_12_mths_ex_med','acc_now_delinq','tot_coll_amt','total_rev_hi_lim','tot_cur_bal']) "
   ]
  },
  {
   "cell_type": "markdown",
   "id": "8050d2e5",
   "metadata": {},
   "source": [
    "This code drops rows from the DataFrame data where any of the specified columns ('emp_length', 'annual_inc', 'inq_last_6mths', 'pub_rec', 'revol_bal', 'revol_util', 'total_acc', 'last_pymnt_amnt', 'collections_12_mths_ex_med', 'acc_now_delinq', 'tot_coll_amt', 'total_rev_hi_lim', 'tot_cur_bal') have missing values (NaN)."
   ]
  },
  {
   "cell_type": "markdown",
   "id": "62121239",
   "metadata": {},
   "source": [
    "#### Data Imputation"
   ]
  },
  {
   "cell_type": "code",
   "execution_count": 12,
   "id": "0bacfba6",
   "metadata": {},
   "outputs": [],
   "source": [
    "data['mths_since_last_delinq'] = data['mths_since_last_delinq'].fillna(data['mths_since_last_delinq'].mean())"
   ]
  },
  {
   "cell_type": "code",
   "execution_count": 13,
   "id": "deaa581f",
   "metadata": {},
   "outputs": [],
   "source": [
    "data['mths_since_last_record'] = data['mths_since_last_record'].fillna(data['mths_since_last_record'].mean())"
   ]
  },
  {
   "cell_type": "code",
   "execution_count": 14,
   "id": "962bc9d7",
   "metadata": {},
   "outputs": [],
   "source": [
    "data['mths_since_last_major_derog'] = data['mths_since_last_major_derog'].fillna(data['mths_since_last_major_derog'].mean())"
   ]
  },
  {
   "cell_type": "markdown",
   "id": "1652020f",
   "metadata": {},
   "source": [
    "Imputing null value with the mean value of the feature"
   ]
  },
  {
   "cell_type": "code",
   "execution_count": 15,
   "id": "911dd340",
   "metadata": {},
   "outputs": [],
   "source": [
    "data['term'] = data['term'].str.replace('months', '')"
   ]
  },
  {
   "cell_type": "code",
   "execution_count": 16,
   "id": "27ee75ed",
   "metadata": {},
   "outputs": [],
   "source": [
    "data['term'] = pd.to_numeric(data['term'])"
   ]
  },
  {
   "cell_type": "markdown",
   "id": "c259979a",
   "metadata": {},
   "source": [
    "Replaces the substring 'months' with an empty string '' in each element of the 'term' column and changing the data types from string to numeric types"
   ]
  },
  {
   "cell_type": "code",
   "execution_count": 17,
   "id": "2d7252e0",
   "metadata": {},
   "outputs": [],
   "source": [
    "data['initial_list_status'] = data['initial_list_status'].str.replace('w', 'whole_loan')"
   ]
  },
  {
   "cell_type": "code",
   "execution_count": 18,
   "id": "cb6b463c",
   "metadata": {},
   "outputs": [],
   "source": [
    "data['initial_list_status'] = data['initial_list_status'].str.replace('f', 'fractional_loan')"
   ]
  },
  {
   "cell_type": "markdown",
   "id": "3499aeb5",
   "metadata": {},
   "source": [
    "replaces the substring 'w' and 'n' so it gets better to understand"
   ]
  },
  {
   "cell_type": "markdown",
   "id": "a545dd97",
   "metadata": {},
   "source": [
    "#### Data scaling and normalization"
   ]
  },
  {
   "cell_type": "code",
   "execution_count": 19,
   "id": "a62c9668",
   "metadata": {},
   "outputs": [],
   "source": [
    "from sklearn import preprocessing\n",
    "\n",
    "# Select numerical features for normalization\n",
    "numeric_features = data.select_dtypes(include=['int', 'float']).columns\n",
    "\n",
    "# Normalization\n",
    "scaler = StandardScaler()\n",
    "data[numeric_features] = scaler.fit_transform(data[numeric_features])\n"
   ]
  },
  {
   "cell_type": "markdown",
   "id": "6daf3cde",
   "metadata": {},
   "source": [
    "Performs normalization on numerical features in the DataFrame data using StandardScaler."
   ]
  },
  {
   "cell_type": "markdown",
   "id": "0eeeabfb",
   "metadata": {},
   "source": [
    "## Explainatory Data Analysis"
   ]
  },
  {
   "cell_type": "markdown",
   "id": "c6261e41",
   "metadata": {},
   "source": [
    "The main objectives for this part of the notebook are:\n",
    "\n",
    "- Explore the clean dataset by performing univariate analysis\n",
    "- Investiage the relationships between your features and your target by perofrming bivariate and multivariate analyses\n",
    "- Extract relevant insights to share with business stakeholders"
   ]
  },
  {
   "cell_type": "markdown",
   "id": "8df1b878",
   "metadata": {},
   "source": [
    "#### Question to be answered!\n",
    "1. What is the distribution of the grades as the dependent variable\n",
    "1. Is there any correlation between loan amount and credit risk?\n",
    "2. What is the relationship between interest rate and credit risk?\n",
    "3. Does the length of employment affect credit risk?\n",
    "4. Are there any patterns in the types of loans (purpose) and credit risk?\n",
    "5. What is the relationship between credit utilization (revol_util) and credit risk?"
   ]
  },
  {
   "cell_type": "markdown",
   "id": "31b27c76",
   "metadata": {},
   "source": [
    "#### 1. Distribution of the grades as the dependent variable"
   ]
  },
  {
   "cell_type": "code",
   "execution_count": 20,
   "id": "b1951cb3",
   "metadata": {},
   "outputs": [
    {
     "data": {
      "image/png": "[encoded data removed]",
      "text/plain": [
       "<Figure size 500x500 with 1 Axes>"
      ]
     },
     "metadata": {},
     "output_type": "display_data"
    }
   ],
   "source": [
    "plt.style.use(\"ggplot\")\n",
    "plt.figure(figsize=(5,5))\n",
    "ax = sns.countplot(x = data[\"grade\"],palette=\"rocket\")\n",
    "ax.bar_label(ax.containers[0])\n",
    "plt.show()"
   ]
  },
  {
   "cell_type": "markdown",
   "id": "f7059b1e",
   "metadata": {},
   "source": [
    "Barplot above shows that most of the population of the data were classified as grade B and that the target variable imbalanced is exist, the issue will be resolved."
   ]
  },
  {
   "cell_type": "markdown",
   "id": "b95d5d4c",
   "metadata": {},
   "source": [
    "#### 2. Correlation between loan amount and credit risk"
   ]
  },
  {
   "cell_type": "code",
   "execution_count": 21,
   "id": "2bd30f64",
   "metadata": {},
   "outputs": [
    {
     "data": {
      "text/plain": [
       "<Figure size 800x600 with 0 Axes>"
      ]
     },
     "metadata": {},
     "output_type": "display_data"
    },
    {
     "data": {
      "image/png": "[encoded data removed]",
      "text/plain": [
       "<Figure size 640x480 with 1 Axes>"
      ]
     },
     "metadata": {},
     "output_type": "display_data"
    },
    {
     "name": "stdout",
     "output_type": "stream",
     "text": [
      "Median Loan Amounts by Credit Risk Grade:\n",
      "  Credit Risk Grade  Median Loan Amount\n",
      "0                 A           -0.106887\n",
      "1                 B           -0.347440\n",
      "2                 C           -0.278281\n",
      "3                 D           -0.106887\n",
      "4                 E            0.253944\n",
      "5                 F            0.374220\n",
      "6                 G            0.614774\n"
     ]
    }
   ],
   "source": [
    "# Create the box plot\n",
    "plt.figure(figsize=(8, 6))\n",
    "data.boxplot(column='loan_amnt', by='grade', grid=False)\n",
    "plt.title('Box Plot of Loan Amount by Credit Risk Grade')\n",
    "plt.xlabel('Credit Risk Grade')\n",
    "plt.ylabel('Loan Amount')\n",
    "plt.suptitle('')  # Remove default title\n",
    "plt.show()\n",
    "\n",
    "# Calculate median loan amount for each grade\n",
    "median_loan_amounts = data.groupby('grade')['loan_amnt'].median().reset_index()\n",
    "median_loan_amounts.columns = ['Credit Risk Grade', 'Median Loan Amount']\n",
    "\n",
    "# Print the table\n",
    "print(\"Median Loan Amounts by Credit Risk Grade:\")\n",
    "print(median_loan_amounts)"
   ]
  },
  {
   "cell_type": "markdown",
   "id": "1860971b",
   "metadata": {},
   "source": [
    "Based on the box plot above, we can conclude that there appears to be a correlation between loan amount and credit risk. \n",
    "\n",
    "Borrowers with higher credit risk, as indicated by lower credit grades, tend to borrow larger amounts of loans. However, it's important to note that correlation does not necessarily imply causation"
   ]
  },
  {
   "cell_type": "markdown",
   "id": "ed3d6cca",
   "metadata": {},
   "source": [
    "#### 3. Relationship between interest rate and credit risk"
   ]
  },
  {
   "cell_type": "code",
   "execution_count": 22,
   "id": "5ab9c9f5",
   "metadata": {},
   "outputs": [
    {
     "data": {
      "text/plain": [
       "<Figure size 800x600 with 0 Axes>"
      ]
     },
     "metadata": {},
     "output_type": "display_data"
    },
    {
     "data": {
      "image/png": "[encoded data removed]",
      "text/plain": [
       "<Figure size 640x480 with 1 Axes>"
      ]
     },
     "metadata": {},
     "output_type": "display_data"
    },
    {
     "name": "stdout",
     "output_type": "stream",
     "text": [
      "Median Interest Rate by Credit Risk Grade:\n",
      "  Credit Risk Grade  Interest Rate\n",
      "0                 A      -1.448612\n",
      "1                 B      -0.540919\n",
      "2                 C       0.102221\n",
      "3                 D       0.804657\n",
      "4                 E       1.584634\n",
      "5                 F       2.289351\n",
      "6                 G       2.688463\n"
     ]
    }
   ],
   "source": [
    "# Create the box plot\n",
    "plt.figure(figsize=(8, 6))\n",
    "data.boxplot(column='int_rate', by='grade', grid=False)\n",
    "plt.title('Box Plot of Interest Rate by Credit Risk Grade')\n",
    "plt.xlabel('Credit Risk Grade')\n",
    "plt.ylabel('Interest Rate')\n",
    "plt.suptitle('') \n",
    "plt.show()\n",
    "\n",
    "# Calculate median loan amount for each grade\n",
    "median_loan_amounts = data.groupby('grade')['int_rate'].median().reset_index()\n",
    "median_loan_amounts.columns = ['Credit Risk Grade', 'Interest Rate']\n",
    "\n",
    "# Print the table\n",
    "print(\"Median Interest Rate by Credit Risk Grade:\")\n",
    "print(median_loan_amounts)"
   ]
  },
  {
   "cell_type": "markdown",
   "id": "35d0304d",
   "metadata": {},
   "source": [
    "Based on the box plot above, we can conclude that there's to be a correlation between Interest rate and credit risk. \n",
    "\n",
    "Borrowers with higher credit risk, as indicated by lower credit grades, tend to borrow with higher interest rate, while borrowers with lower credit risk, indicated by higher credit grades, tend to borrow with smaller interest rate. However, it's important to note that correlation does not necessarily imply causation"
   ]
  },
  {
   "cell_type": "markdown",
   "id": "af75ce16",
   "metadata": {},
   "source": [
    "#### 4. Length of employment"
   ]
  },
  {
   "cell_type": "code",
   "execution_count": 23,
   "id": "9e42f55e",
   "metadata": {},
   "outputs": [
    {
     "data": {
      "image/png": "[encoded data removed]",
      "text/plain": [
       "<Figure size 1000x600 with 1 Axes>"
      ]
     },
     "metadata": {},
     "output_type": "display_data"
    },
    {
     "name": "stdout",
     "output_type": "stream",
     "text": [
      "Count of Employment Length Categories within Each Credit Risk Grade:\n",
      "emp_length  1 year  10+ years  2 years  3 years  4 years  5 years  6 years  \\\n",
      "grade                                                                        \n",
      "A             3696      19242     5173     4609     3360     3727     3157   \n",
      "B             7095      38109    10079     8849     6411     7272     6356   \n",
      "C             6584      37626     9310     8335     6153     6900     6206   \n",
      "D             4096      22543     5772     5129     3821     4179     3636   \n",
      "E             1807      10635     2537     2255     1680     1908     1606   \n",
      "F              636       3923      928      805      609      709      664   \n",
      "G              160        990      221      180      127      144      135   \n",
      "\n",
      "emp_length  7 years  8 years  9 years  < 1 year  \n",
      "grade                                            \n",
      "A              3240     2779     2208      4517  \n",
      "B              6693     5870     4576      8334  \n",
      "C              6294     5522     4368      7927  \n",
      "D              3928     3224     2563      4887  \n",
      "E              1777     1523     1284      2178  \n",
      "F               686      573      441       781  \n",
      "G               155      127      104       207  \n"
     ]
    }
   ],
   "source": [
    "# Filter data for the specified employment length categories\n",
    "employment_categories = ['10+ years', '< 1 year', '1 year', '3 years', '8 years', '9 years', '4 years', '5 years', '6 years', '2 years', '7 years']\n",
    "filtered_data = data[data['emp_length'].isin(employment_categories)]\n",
    "\n",
    "# Group data by 'grade' and 'emp_length', then count the occurrences\n",
    "grouped_data = filtered_data.groupby(['grade', 'emp_length']).size().unstack(fill_value=0)\n",
    "\n",
    "colors = sns.color_palette(\"Paired\", len(grouped_data.columns))\n",
    "\n",
    "# Plot stacked bar chart\n",
    "grouped_data.plot(kind='bar', stacked=True, figsize=(10, 6),color=colors)\n",
    "\n",
    "# Customize plot\n",
    "plt.xlabel('Credit Risk Grade')\n",
    "plt.ylabel('Count')\n",
    "plt.title('Credit Risk Distribution by Employment Length')\n",
    "plt.legend(title='Employment Length')\n",
    "\n",
    "# Show plot and table\n",
    "plt.show()\n",
    "\n",
    "# Print the table\n",
    "print(\"Count of Employment Length Categories within Each Credit Risk Grade:\")\n",
    "print(grouped_data)"
   ]
  },
  {
   "cell_type": "markdown",
   "id": "46965c77",
   "metadata": {},
   "source": [
    "Based on the plot and the table above, it shows the table consistently shows higher counts of certain credit risk grades across various employment length categories. For instance, credit risk grade B tends to have the highest counts across different employment lengths, followed by grades C and D.\n",
    "\n",
    "One plausible explanation for this consistency could be that individuals with longer employment lengths tend to demonstrate greater financial stability and reliability, leading to lower credit risk. On the other hand, those with shorter employment lengths might be perceived as less stable, potentially resulting in higher credit risk."
   ]
  },
  {
   "cell_type": "markdown",
   "id": "92fad5d7",
   "metadata": {},
   "source": [
    "#### 5. Patterns in the types of loans (purpose) and credit risk"
   ]
  },
  {
   "cell_type": "code",
   "execution_count": 24,
   "id": "3f754635",
   "metadata": {},
   "outputs": [
    {
     "data": {
      "image/png": "[encoded data removed]",
      "text/plain": [
       "<Figure size 1000x600 with 1 Axes>"
      ]
     },
     "metadata": {},
     "output_type": "display_data"
    },
    {
     "name": "stdout",
     "output_type": "stream",
     "text": [
      "Count of Borrower Purpose within Each Credit Risk Grade:\n",
      "purpose  car  credit_card  debt_consolidation  home_improvement  house  \\\n",
      "grade                                                                    \n",
      "A        680        19861               29130              3395    161   \n",
      "B        920        31992               65103              5573    279   \n",
      "C        780        22521               67234              5621    310   \n",
      "D        431         9831               40499              3303    296   \n",
      "E        151         3331               18692              1649    233   \n",
      "F         68          902                6493               581    157   \n",
      "G         15          166                1450               159     65   \n",
      "\n",
      "purpose  major_purchase  medical  moving  other  renewable_energy  \\\n",
      "grade                                                               \n",
      "A                  1244      185      38    709                 9   \n",
      "B                  1773      577     210   2392                18   \n",
      "C                  1639      894     439   4219                50   \n",
      "D                  1048      886     657   4784                59   \n",
      "E                   431      486     421   2597                32   \n",
      "F                   175      212     196   1329                23   \n",
      "G                    44       48      39    339                 6   \n",
      "\n",
      "purpose  small_business  vacation  wedding  \n",
      "grade                                       \n",
      "A                   151        85       60  \n",
      "B                   417       277      113  \n",
      "C                   836       514      168  \n",
      "D                  1143       546      295  \n",
      "E                   777       257      133  \n",
      "F                   467        79       73  \n",
      "G                   192        12       15  \n"
     ]
    }
   ],
   "source": [
    "# Filter data for the specified employment length categories\n",
    "purpose = data[\"purpose\"]\n",
    "filtered_data = data[data['purpose'].isin(purpose)]\n",
    "\n",
    "# Group data by 'grade' and 'emp_length', then count the occurrences\n",
    "grouped_data = filtered_data.groupby(['grade', 'purpose']).size().unstack(fill_value=0)\n",
    "colors = sns.color_palette(\"Paired\", len(grouped_data.columns))\n",
    "\n",
    "# Plot stacked bar chart\n",
    "grouped_data.plot(kind='bar', stacked=True, figsize=(10, 6),color=colors)\n",
    "\n",
    "# Customize plot\n",
    "plt.xlabel('Credit Risk Grade')\n",
    "plt.ylabel('Count')\n",
    "plt.title('Credit Risk Distribution by Borrower Purpose')\n",
    "plt.legend(title='Borrow Purpose')\n",
    "\n",
    "# Show plot and table\n",
    "plt.show()\n",
    "\n",
    "# Print the table\n",
    "print(\"Count of Borrower Purpose within Each Credit Risk Grade:\")\n",
    "print(grouped_data)"
   ]
  },
  {
   "cell_type": "markdown",
   "id": "a28e4862",
   "metadata": {},
   "source": [
    "Based on the plot and the table above, it shows a pattern where the table consistently shows higher counts of certain purpose across various credit risk grades. For example, debt consolidation tends to have the highest counts across different grade, followed by credit card and home improvement.\n",
    "\n",
    "This shows that most of the borrowers, no matter the grade, tends to borrow money to do debt consolidation as individuals often seek to consolidate their debts to manage them more effectively, this suggest a common financial need among borrowers."
   ]
  },
  {
   "cell_type": "markdown",
   "id": "d606f941",
   "metadata": {},
   "source": [
    "#### 6. Relationship between credit utilization (revol_util) and credit risk"
   ]
  },
  {
   "cell_type": "code",
   "execution_count": 25,
   "id": "f246beb3",
   "metadata": {},
   "outputs": [
    {
     "data": {
      "text/plain": [
       "<Figure size 800x600 with 0 Axes>"
      ]
     },
     "metadata": {},
     "output_type": "display_data"
    },
    {
     "data": {
      "image/png": "[encoded data removed]",
      "text/plain": [
       "<Figure size 640x480 with 1 Axes>"
      ]
     },
     "metadata": {},
     "output_type": "display_data"
    },
    {
     "name": "stdout",
     "output_type": "stream",
     "text": [
      "Median Credit Utilization by Credit Risk Grade:\n",
      "  Credit Risk Grade  Credit Utilization\n",
      "0                 A           -0.658379\n",
      "1                 B           -0.069911\n",
      "2                 C            0.174194\n",
      "3                 D            0.331119\n",
      "4                 E            0.453172\n",
      "5                 F            0.522916\n",
      "6                 G            0.586122\n"
     ]
    }
   ],
   "source": [
    "# Create the box plot\n",
    "plt.figure(figsize=(8, 6))\n",
    "data.boxplot(column='revol_util', by='grade', grid=False)\n",
    "plt.title('Box Plot of Credit Utilization by Credit Risk Grade')\n",
    "plt.xlabel('Credit Risk Grade')\n",
    "plt.ylabel('Credit Utilization')\n",
    "plt.suptitle('') \n",
    "plt.show()\n",
    "\n",
    "# Calculate median loan amount for each grade\n",
    "median_loan_amounts = data.groupby('grade')['revol_util'].median().reset_index()\n",
    "median_loan_amounts.columns = ['Credit Risk Grade', 'Credit Utilization']\n",
    "\n",
    "# Print the table\n",
    "print(\"Median Credit Utilization by Credit Risk Grade:\")\n",
    "print(median_loan_amounts)\n"
   ]
  },
  {
   "cell_type": "markdown",
   "id": "3e4f0c42",
   "metadata": {},
   "source": [
    "The boxplot and table above shows that borrower with credit risk grade G has the highest credit utilization while the borrower with grade A has the lowest credit utilization.\n",
    "\n",
    "This mean that the higher individual using their available credit, the lower their credit risk grade are. And the lower individual utilized their credit, the higher their grade are."
   ]
  },
  {
   "cell_type": "markdown",
   "id": "b4589a54",
   "metadata": {},
   "source": [
    "## Feature Enginering"
   ]
  },
  {
   "cell_type": "markdown",
   "id": "9601e4ce",
   "metadata": {},
   "source": [
    "The main objectives for this part of notebook are:\n",
    "\n",
    "- Develop a set of features that have a potential to improve your model's performance\n",
    "- Investiage the relationships between your new features and your target\n"
   ]
  },
  {
   "cell_type": "markdown",
   "id": "5b3fa996",
   "metadata": {},
   "source": [
    "Now that we've explored the data, it is time to get these features 'model ready'. "
   ]
  },
  {
   "cell_type": "code",
   "execution_count": 26,
   "id": "8a4cee26",
   "metadata": {},
   "outputs": [],
   "source": [
    "y = data['grade']\n",
    "x = data.drop('grade', axis=1)"
   ]
  },
  {
   "cell_type": "code",
   "execution_count": 27,
   "id": "45661ccf",
   "metadata": {},
   "outputs": [
    {
     "name": "stdout",
     "output_type": "stream",
     "text": [
      "Shape of x_train and y_train:  (282637, 39) (282637,)\n",
      "Shape of x_test and y_test:  (94213, 39) (94213,)\n"
     ]
    }
   ],
   "source": [
    "x_train, x_test, y_train, y_test = train_test_split(x, y, random_state=0, train_size = .75) #puts 75 percent of the data into a training set and the remaining 25 percent into a testing set.\n",
    "print('Shape of x_train and y_train: ',x_train.shape, y_train.shape)\n",
    "print('Shape of x_test and y_test: ',x_test.shape, y_test.shape)"
   ]
  },
  {
   "cell_type": "markdown",
   "id": "6dd0a8f3",
   "metadata": {},
   "source": [
    "To avoid data leakage, first we need to split the data to train and test set."
   ]
  },
  {
   "cell_type": "code",
   "execution_count": 28,
   "id": "b60e6a42",
   "metadata": {},
   "outputs": [],
   "source": [
    "subsample_size = 0.5"
   ]
  },
  {
   "cell_type": "code",
   "execution_count": 29,
   "id": "cc581a13",
   "metadata": {},
   "outputs": [
    {
     "name": "stdout",
     "output_type": "stream",
     "text": [
      "Shape of subsampled x_train:  (141318, 39)\n",
      "Shape of subsampled y_train:  (141318,)\n"
     ]
    }
   ],
   "source": [
    "x_train = x_train.sample(frac=subsample_size, random_state=42)\n",
    "y_train = y_train.loc[x_train.index]\n",
    "\n",
    "print('Shape of subsampled x_train: ', x_train.shape)\n",
    "print('Shape of subsampled y_train: ', y_train.shape)"
   ]
  },
  {
   "cell_type": "markdown",
   "id": "7fef0c10",
   "metadata": {},
   "source": [
    "Perform subsampling on the training data set to make the modeling more efficient"
   ]
  },
  {
   "cell_type": "code",
   "execution_count": 30,
   "id": "6f8c81c9",
   "metadata": {},
   "outputs": [],
   "source": [
    "x_train_dum = pd.get_dummies(x_train[['emp_length','verification_status','loan_status','purpose','initial_list_status','application_type']])"
   ]
  },
  {
   "cell_type": "code",
   "execution_count": 31,
   "id": "6bb5acac",
   "metadata": {},
   "outputs": [],
   "source": [
    "x_test_dum = pd.get_dummies(x_test[['emp_length','verification_status','loan_status','purpose','initial_list_status','application_type']])"
   ]
  },
  {
   "cell_type": "markdown",
   "id": "8c1f700a",
   "metadata": {},
   "source": [
    "After splitting the data, categorial features will need to be converted into 'dummy variables', otherwise a machine learning algorithm will not be able to take in those features as inputs."
   ]
  },
  {
   "cell_type": "code",
   "execution_count": 32,
   "id": "a981930b",
   "metadata": {},
   "outputs": [
    {
     "name": "stdout",
     "output_type": "stream",
     "text": [
      "Shape of x_train and y_train:  (141318, 39) (141318,)\n",
      "Shape of x_test and y_test:  (94213, 39) (94213,)\n"
     ]
    }
   ],
   "source": [
    "print('Shape of x_train and y_train: ',x_train.shape, y_train.shape)\n",
    "print('Shape of x_test and y_test: ',x_test.shape, y_test.shape)"
   ]
  },
  {
   "cell_type": "code",
   "execution_count": 33,
   "id": "a6db66ed",
   "metadata": {},
   "outputs": [],
   "source": [
    "x_train = pd.concat([x_train, x_train_dum], axis = 1)"
   ]
  },
  {
   "cell_type": "code",
   "execution_count": 34,
   "id": "f94fc744",
   "metadata": {},
   "outputs": [],
   "source": [
    "x_test = pd.concat([x_test, x_test_dum], axis = 1)"
   ]
  },
  {
   "cell_type": "markdown",
   "id": "b6a9b586",
   "metadata": {},
   "source": [
    "Concatenate the data set and the dummy features that just got generated"
   ]
  },
  {
   "cell_type": "code",
   "execution_count": 37,
   "id": "8dde1dc3",
   "metadata": {},
   "outputs": [],
   "source": [
    "x_train.drop(['emp_length','verification_status','loan_status','purpose','initial_list_status','application_type'], axis = 1, inplace = True)"
   ]
  },
  {
   "cell_type": "code",
   "execution_count": 38,
   "id": "cef400e3",
   "metadata": {},
   "outputs": [],
   "source": [
    "x_test.drop(['emp_length','verification_status','loan_status','purpose','initial_list_status','application_type'], axis = 1, inplace = True)"
   ]
  },
  {
   "cell_type": "markdown",
   "id": "ebe22f4e",
   "metadata": {},
   "source": [
    "Dropping the column that just got dummied and concatenated"
   ]
  },
  {
   "cell_type": "code",
   "execution_count": 39,
   "id": "f12f7774",
   "metadata": {},
   "outputs": [
    {
     "name": "stdout",
     "output_type": "stream",
     "text": [
      "[2.13903027e-02 2.13709144e-02 2.16339834e-02 2.71686315e-02\n",
      " 3.51014204e-01 3.72706799e-02 1.71259627e-02 1.79180235e-02\n",
      " 1.57755181e-02 1.44602976e-02 7.26043497e-03 1.57529440e-02\n",
      " 7.36908258e-03 1.61572693e-02 2.39159774e-02 1.63935190e-02\n",
      " 1.50693968e-02 1.49202562e-02 2.30914414e-02 2.30972652e-02\n",
      " 3.01848682e-02 5.50668014e-02 2.09080649e-03 1.83904014e-03\n",
      " 1.73308734e-03 2.39517085e-02 1.37638906e-03 1.11161912e-02\n",
      " 0.00000000e+00 7.64019536e-04 7.66983240e-03 1.77357722e-02\n",
      " 1.92769266e-02 4.72586423e-03 9.04582101e-03 5.66757162e-03\n",
      " 5.30102129e-03 4.45391754e-03 4.75087651e-03 4.44202678e-03\n",
      " 4.59247692e-03 4.11646569e-03 3.56942547e-03 5.12213627e-03\n",
      " 5.49435355e-03 4.73929634e-03 5.01669805e-03 2.75498224e-03\n",
      " 4.24147304e-03 2.79473566e-04 2.73580243e-03 7.49935239e-04\n",
      " 3.22036399e-04 1.25505945e-03 8.18785005e-04 6.28459340e-03\n",
      " 4.79797244e-03 2.67555059e-03 5.76792062e-04 1.40624426e-03\n",
      " 1.01079623e-03 8.14410264e-04 3.54887010e-03 1.21481587e-04\n",
      " 1.32234155e-03 5.81043431e-04 4.21641731e-04 5.68118037e-03\n",
      " 5.60003510e-03 0.00000000e+00]\n"
     ]
    },
    {
     "data": {
      "image/png": "[encoded data removed]",
      "text/plain": [
       "<Figure size 640x480 with 1 Axes>"
      ]
     },
     "metadata": {},
     "output_type": "display_data"
    }
   ],
   "source": [
    "from sklearn.ensemble import ExtraTreesClassifier\n",
    "import matplotlib.pyplot as plt\n",
    "model = ExtraTreesClassifier()\n",
    "model.fit(x_train,y_train)\n",
    "print(model.feature_importances_) #use inbuilt class feature_importances of tree based classifiers\n",
    "#plot graph of feature importances for better visualization\n",
    "feat_importances = pd.Series(model.feature_importances_, index=x_train.columns)\n",
    "feat_importances.nlargest(15).plot(kind='barh')\n",
    "plt.show()"
   ]
  },
  {
   "cell_type": "markdown",
   "id": "4054933d",
   "metadata": {},
   "source": [
    "Perform feature importance to see which features to evaluate the relevance or importance of each feature (or input variable) in predicting the target variable. It helps to identify which features have the most significant influence on the model's predictions."
   ]
  },
  {
   "cell_type": "code",
   "execution_count": 40,
   "id": "4a599775",
   "metadata": {},
   "outputs": [],
   "source": [
    "columns_to_keep = ['int_rate', 'total_rec_int', 'installment', 'total_rec_prncp', \n",
    "                   'term', 'last_pymnt_amnt', 'revol_util', 'total_pymnt', \n",
    "                   'total_pymnt_inv', 'loan_amnt', 'funded_amnt', 'total_rev_hi_lim', \n",
    "                   'dti', 'tot_cur_bal']\n",
    "\n",
    "# List of columns to drop\n",
    "columns_to_drop = [col for col in x_train.columns if col not in columns_to_keep]\n",
    "columns_to_drop2 = [col for col in x_test.columns if col not in columns_to_keep]\n",
    "\n",
    "# Drop columns\n",
    "x_train.drop(columns=columns_to_drop, inplace=True)\n",
    "x_test.drop(columns=columns_to_drop2, inplace=True)"
   ]
  },
  {
   "cell_type": "markdown",
   "id": "d0c4a44d",
   "metadata": {},
   "source": [
    "Dropping column that has less relevant to predicting target variable and kept the top 15 feature, this also help simplify the model and avoid overfitting and create more efficiency."
   ]
  },
  {
   "cell_type": "code",
   "execution_count": 41,
   "id": "5a785092",
   "metadata": {
    "scrolled": true
   },
   "outputs": [
    {
     "name": "stdout",
     "output_type": "stream",
     "text": [
      "Grade Distribution:\n",
      "B    109644\n",
      "C    105225\n",
      "D     63778\n",
      "A     55708\n",
      "E     29190\n",
      "F     10755\n",
      "G      2550\n",
      "Name: grade, dtype: int64\n"
     ]
    }
   ],
   "source": [
    "# Assuming 'data' is your DataFrame containing the 'grade' column\n",
    "grade_distribution = data['grade'].value_counts()\n",
    "\n",
    "# Print the distribution of grades\n",
    "print(\"Grade Distribution:\")\n",
    "print(grade_distribution)"
   ]
  },
  {
   "cell_type": "markdown",
   "id": "e66431d6",
   "metadata": {},
   "source": [
    "Checking the target variable distribution and found that there's a imbalanced data distribution"
   ]
  },
  {
   "cell_type": "code",
   "execution_count": 42,
   "id": "f60e0cd0",
   "metadata": {},
   "outputs": [],
   "source": [
    "# Import the necessary libraries\n",
    "from imblearn.over_sampling import SMOTE\n",
    "\n",
    "# Creating an instance of SMOTE\n",
    "smote = SMOTE()\n",
    "\n",
    "# Balancing the data\n",
    "x_train, y_train = smote.fit_resample(x_train, y_train)"
   ]
  },
  {
   "cell_type": "markdown",
   "id": "6e2f41d9",
   "metadata": {},
   "source": [
    "Implement oversampling to handled imbalance target variable using SMOTE library"
   ]
  },
  {
   "cell_type": "code",
   "execution_count": 44,
   "id": "56e37628",
   "metadata": {},
   "outputs": [
    {
     "name": "stdout",
     "output_type": "stream",
     "text": [
      "Grade Distribution:\n",
      "B    41131\n",
      "C    41131\n",
      "A    41131\n",
      "D    41131\n",
      "F    41131\n",
      "E    41131\n",
      "G    41131\n",
      "Name: grade, dtype: int64\n"
     ]
    }
   ],
   "source": [
    "grade_distribution = y_train.value_counts()\n",
    "\n",
    "# Print the distribution of grades\n",
    "print(\"Grade Distribution:\")\n",
    "print(grade_distribution)"
   ]
  },
  {
   "cell_type": "markdown",
   "id": "80d6951d",
   "metadata": {},
   "source": [
    "## Modelling"
   ]
  },
  {
   "cell_type": "markdown",
   "id": "6fffa83a",
   "metadata": {},
   "source": [
    "The main objectives for this part of the notebook are:\n",
    "\n",
    "- To develop a model that will satisfiy our modelling objective\n",
    "- To properly evaluate the developed model\n",
    "- To have a trained model ready for deployment"
   ]
  },
  {
   "cell_type": "code",
   "execution_count": 45,
   "id": "5f0b0b15",
   "metadata": {},
   "outputs": [],
   "source": [
    "# Create Decision Tree classifer object\n",
    "clf = DecisionTreeClassifier()\n",
    "\n",
    "# Train Decision Tree Classifer\n",
    "clf = clf.fit(x_train,y_train)\n",
    "\n",
    "#Predict the response for test dataset\n",
    "y_pred = clf.predict(x_test)\n",
    "\n",
    "decisionTreeScore = metrics.accuracy_score(y_test, y_pred)"
   ]
  },
  {
   "cell_type": "code",
   "execution_count": 46,
   "id": "3b885189",
   "metadata": {},
   "outputs": [
    {
     "name": "stdout",
     "output_type": "stream",
     "text": [
      "Parameters used in the Decision Tree classifier:\n",
      "{'ccp_alpha': 0.0, 'class_weight': None, 'criterion': 'gini', 'max_depth': None, 'max_features': None, 'max_leaf_nodes': None, 'min_impurity_decrease': 0.0, 'min_samples_leaf': 1, 'min_samples_split': 2, 'min_weight_fraction_leaf': 0.0, 'random_state': None, 'splitter': 'best'}\n",
      "Accuracy: 0.9734643838960653\n"
     ]
    }
   ],
   "source": [
    "# Model Accuracy, how often is the classifier correct?\n",
    "# Print the parameters used in the Decision Tree classifier\n",
    "print(\"Parameters used in the Decision Tree classifier:\")\n",
    "print(clf.get_params())\n",
    "print(\"Accuracy:\",decisionTreeScore)"
   ]
  },
  {
   "cell_type": "code",
   "execution_count": 47,
   "id": "3e73e30f",
   "metadata": {},
   "outputs": [
    {
     "name": "stderr",
     "output_type": "stream",
     "text": [
      "/Users/naufal/anaconda3/lib/python3.10/site-packages/sklearn/linear_model/_logistic.py:458: ConvergenceWarning: lbfgs failed to converge (status=1):\n",
      "STOP: TOTAL NO. of ITERATIONS REACHED LIMIT.\n",
      "\n",
      "Increase the number of iterations (max_iter) or scale the data as shown in:\n",
      "    https://scikit-learn.org/stable/modules/preprocessing.html\n",
      "Please also refer to the documentation for alternative solver options:\n",
      "    https://scikit-learn.org/stable/modules/linear_model.html#logistic-regression\n",
      "  n_iter_i = _check_optimize_result(\n"
     ]
    },
    {
     "data": {
      "text/html": [
       "<style>#sk-container-id-1 {color: black;background-color: white;}#sk-container-id-1 pre{padding: 0;}#sk-container-id-1 div.sk-toggleable {background-color: white;}#sk-container-id-1 label.sk-toggleable__label {cursor: pointer;display: block;width: 100%;margin-bottom: 0;padding: 0.3em;box-sizing: border-box;text-align: center;}#sk-container-id-1 label.sk-toggleable__label-arrow:before {content: \"▸\";float: left;margin-right: 0.25em;color: #696969;}#sk-container-id-1 label.sk-toggleable__label-arrow:hover:before {color: black;}#sk-container-id-1 div.sk-estimator:hover label.sk-toggleable__label-arrow:before {color: black;}#sk-container-id-1 div.sk-toggleable__content {max-height: 0;max-width: 0;overflow: hidden;text-align: left;background-color: #f0f8ff;}#sk-container-id-1 div.sk-toggleable__content pre {margin: 0.2em;color: black;border-radius: 0.25em;background-color: #f0f8ff;}#sk-container-id-1 input.sk-toggleable__control:checked~div.sk-toggleable__content {max-height: 200px;max-width: 100%;overflow: auto;}#sk-container-id-1 input.sk-toggleable__control:checked~label.sk-toggleable__label-arrow:before {content: \"▾\";}#sk-container-id-1 div.sk-estimator input.sk-toggleable__control:checked~label.sk-toggleable__label {background-color: #d4ebff;}#sk-container-id-1 div.sk-label input.sk-toggleable__control:checked~label.sk-toggleable__label {background-color: #d4ebff;}#sk-container-id-1 input.sk-hidden--visually {border: 0;clip: rect(1px 1px 1px 1px);clip: rect(1px, 1px, 1px, 1px);height: 1px;margin: -1px;overflow: hidden;padding: 0;position: absolute;width: 1px;}#sk-container-id-1 div.sk-estimator {font-family: monospace;background-color: #f0f8ff;border: 1px dotted black;border-radius: 0.25em;box-sizing: border-box;margin-bottom: 0.5em;}#sk-container-id-1 div.sk-estimator:hover {background-color: #d4ebff;}#sk-container-id-1 div.sk-parallel-item::after {content: \"\";width: 100%;border-bottom: 1px solid gray;flex-grow: 1;}#sk-container-id-1 div.sk-label:hover label.sk-toggleable__label {background-color: #d4ebff;}#sk-container-id-1 div.sk-serial::before {content: \"\";position: absolute;border-left: 1px solid gray;box-sizing: border-box;top: 0;bottom: 0;left: 50%;z-index: 0;}#sk-container-id-1 div.sk-serial {display: flex;flex-direction: column;align-items: center;background-color: white;padding-right: 0.2em;padding-left: 0.2em;position: relative;}#sk-container-id-1 div.sk-item {position: relative;z-index: 1;}#sk-container-id-1 div.sk-parallel {display: flex;align-items: stretch;justify-content: center;background-color: white;position: relative;}#sk-container-id-1 div.sk-item::before, #sk-container-id-1 div.sk-parallel-item::before {content: \"\";position: absolute;border-left: 1px solid gray;box-sizing: border-box;top: 0;bottom: 0;left: 50%;z-index: -1;}#sk-container-id-1 div.sk-parallel-item {display: flex;flex-direction: column;z-index: 1;position: relative;background-color: white;}#sk-container-id-1 div.sk-parallel-item:first-child::after {align-self: flex-end;width: 50%;}#sk-container-id-1 div.sk-parallel-item:last-child::after {align-self: flex-start;width: 50%;}#sk-container-id-1 div.sk-parallel-item:only-child::after {width: 0;}#sk-container-id-1 div.sk-dashed-wrapped {border: 1px dashed gray;margin: 0 0.4em 0.5em 0.4em;box-sizing: border-box;padding-bottom: 0.4em;background-color: white;}#sk-container-id-1 div.sk-label label {font-family: monospace;font-weight: bold;display: inline-block;line-height: 1.2em;}#sk-container-id-1 div.sk-label-container {text-align: center;}#sk-container-id-1 div.sk-container {/* jupyter's `normalize.less` sets `[hidden] { display: none; }` but bootstrap.min.css set `[hidden] { display: none !important; }` so we also need the `!important` here to be able to override the default hidden behavior on the sphinx rendered scikit-learn.org. See: https://github.com/scikit-learn/scikit-learn/issues/21755 */display: inline-block !important;position: relative;}#sk-container-id-1 div.sk-text-repr-fallback {display: none;}</style><div id=\"sk-container-id-1\" class=\"sk-top-container\"><div class=\"sk-text-repr-fallback\"><pre>LogisticRegression()</pre><b>In a Jupyter environment, please rerun this cell to show the HTML representation or trust the notebook. <br />On GitHub, the HTML representation is unable to render, please try loading this page with nbviewer.org.</b></div><div class=\"sk-container\" hidden><div class=\"sk-item\"><div class=\"sk-estimator sk-toggleable\"><input class=\"sk-toggleable__control sk-hidden--visually\" id=\"sk-estimator-id-1\" type=\"checkbox\" checked><label for=\"sk-estimator-id-1\" class=\"sk-toggleable__label sk-toggleable__label-arrow\">LogisticRegression</label><div class=\"sk-toggleable__content\"><pre>LogisticRegression()</pre></div></div></div></div></div>"
      ],
      "text/plain": [
       "LogisticRegression()"
      ]
     },
     "execution_count": 47,
     "metadata": {},
     "output_type": "execute_result"
    }
   ],
   "source": [
    "# Fit \n",
    "# Import model\n",
    "from sklearn.linear_model import LogisticRegression\n",
    "\n",
    "# Create instance of model\n",
    "lreg = LogisticRegression()\n",
    "\n",
    "# Pass training data into model\n",
    "lreg.fit(x_train, y_train)"
   ]
  },
  {
   "cell_type": "code",
   "execution_count": 48,
   "id": "947e2989",
   "metadata": {},
   "outputs": [],
   "source": [
    "# Predict\n",
    "y_pred_lreg = lreg.predict(x_test)"
   ]
  },
  {
   "cell_type": "code",
   "execution_count": 49,
   "id": "959edbb4",
   "metadata": {},
   "outputs": [
    {
     "name": "stdout",
     "output_type": "stream",
     "text": [
      "Logistic Regression\n",
      "\n",
      "\n",
      "Confusion Matrix\n",
      "[[13720   175     0     0     0     0     0]\n",
      " [  443 24740  2320     0     0     0     0]\n",
      " [    2  1744 22195  2313     0     0     0]\n",
      " [    5     0  1639 12824  1415     0     0]\n",
      " [    4     0     0   663  6299   379     0]\n",
      " [    1     0     0     0    20  2376   326]\n",
      " [    0     0     0     0     0    51   559]]\n",
      "--------------------------------------------------------------------------------\n",
      "Classification Report\n",
      "              precision    recall  f1-score   support\n",
      "\n",
      "           A       0.97      0.99      0.98     13895\n",
      "           B       0.93      0.90      0.91     27503\n",
      "           C       0.85      0.85      0.85     26254\n",
      "           D       0.81      0.81      0.81     15883\n",
      "           E       0.81      0.86      0.84      7345\n",
      "           F       0.85      0.87      0.86      2723\n",
      "           G       0.63      0.92      0.75       610\n",
      "\n",
      "    accuracy                           0.88     94213\n",
      "   macro avg       0.84      0.88      0.86     94213\n",
      "weighted avg       0.88      0.88      0.88     94213\n",
      "\n",
      "--------------------------------------------------------------------------------\n",
      "Accuracy 88 %\n"
     ]
    }
   ],
   "source": [
    "# Score It\n",
    "from sklearn.metrics import classification_report, confusion_matrix, accuracy_score,f1_score, precision_score, recall_score\n",
    "\n",
    "# Confusion Matrix\n",
    "print('Logistic Regression')\n",
    "print('\\n')\n",
    "print('Confusion Matrix')\n",
    "print(confusion_matrix(y_test, y_pred_lreg))\n",
    "print('--'*40)\n",
    "\n",
    "# Classification Report\n",
    "print('Classification Report')\n",
    "print(classification_report(y_test,y_pred_lreg))\n",
    "\n",
    "# Accuracy\n",
    "print('--'*40)\n",
    "logreg_accuracy = round(accuracy_score(y_test, y_pred_lreg) * 100)\n",
    "print('Accuracy', logreg_accuracy,'%')\n",
    "\n",
    "logisticRegressionScore = logreg_accuracy/100"
   ]
  },
  {
   "cell_type": "code",
   "execution_count": 50,
   "id": "45475095",
   "metadata": {},
   "outputs": [
    {
     "data": {
      "text/html": [
       "<style>#sk-container-id-2 {color: black;background-color: white;}#sk-container-id-2 pre{padding: 0;}#sk-container-id-2 div.sk-toggleable {background-color: white;}#sk-container-id-2 label.sk-toggleable__label {cursor: pointer;display: block;width: 100%;margin-bottom: 0;padding: 0.3em;box-sizing: border-box;text-align: center;}#sk-container-id-2 label.sk-toggleable__label-arrow:before {content: \"▸\";float: left;margin-right: 0.25em;color: #696969;}#sk-container-id-2 label.sk-toggleable__label-arrow:hover:before {color: black;}#sk-container-id-2 div.sk-estimator:hover label.sk-toggleable__label-arrow:before {color: black;}#sk-container-id-2 div.sk-toggleable__content {max-height: 0;max-width: 0;overflow: hidden;text-align: left;background-color: #f0f8ff;}#sk-container-id-2 div.sk-toggleable__content pre {margin: 0.2em;color: black;border-radius: 0.25em;background-color: #f0f8ff;}#sk-container-id-2 input.sk-toggleable__control:checked~div.sk-toggleable__content {max-height: 200px;max-width: 100%;overflow: auto;}#sk-container-id-2 input.sk-toggleable__control:checked~label.sk-toggleable__label-arrow:before {content: \"▾\";}#sk-container-id-2 div.sk-estimator input.sk-toggleable__control:checked~label.sk-toggleable__label {background-color: #d4ebff;}#sk-container-id-2 div.sk-label input.sk-toggleable__control:checked~label.sk-toggleable__label {background-color: #d4ebff;}#sk-container-id-2 input.sk-hidden--visually {border: 0;clip: rect(1px 1px 1px 1px);clip: rect(1px, 1px, 1px, 1px);height: 1px;margin: -1px;overflow: hidden;padding: 0;position: absolute;width: 1px;}#sk-container-id-2 div.sk-estimator {font-family: monospace;background-color: #f0f8ff;border: 1px dotted black;border-radius: 0.25em;box-sizing: border-box;margin-bottom: 0.5em;}#sk-container-id-2 div.sk-estimator:hover {background-color: #d4ebff;}#sk-container-id-2 div.sk-parallel-item::after {content: \"\";width: 100%;border-bottom: 1px solid gray;flex-grow: 1;}#sk-container-id-2 div.sk-label:hover label.sk-toggleable__label {background-color: #d4ebff;}#sk-container-id-2 div.sk-serial::before {content: \"\";position: absolute;border-left: 1px solid gray;box-sizing: border-box;top: 0;bottom: 0;left: 50%;z-index: 0;}#sk-container-id-2 div.sk-serial {display: flex;flex-direction: column;align-items: center;background-color: white;padding-right: 0.2em;padding-left: 0.2em;position: relative;}#sk-container-id-2 div.sk-item {position: relative;z-index: 1;}#sk-container-id-2 div.sk-parallel {display: flex;align-items: stretch;justify-content: center;background-color: white;position: relative;}#sk-container-id-2 div.sk-item::before, #sk-container-id-2 div.sk-parallel-item::before {content: \"\";position: absolute;border-left: 1px solid gray;box-sizing: border-box;top: 0;bottom: 0;left: 50%;z-index: -1;}#sk-container-id-2 div.sk-parallel-item {display: flex;flex-direction: column;z-index: 1;position: relative;background-color: white;}#sk-container-id-2 div.sk-parallel-item:first-child::after {align-self: flex-end;width: 50%;}#sk-container-id-2 div.sk-parallel-item:last-child::after {align-self: flex-start;width: 50%;}#sk-container-id-2 div.sk-parallel-item:only-child::after {width: 0;}#sk-container-id-2 div.sk-dashed-wrapped {border: 1px dashed gray;margin: 0 0.4em 0.5em 0.4em;box-sizing: border-box;padding-bottom: 0.4em;background-color: white;}#sk-container-id-2 div.sk-label label {font-family: monospace;font-weight: bold;display: inline-block;line-height: 1.2em;}#sk-container-id-2 div.sk-label-container {text-align: center;}#sk-container-id-2 div.sk-container {/* jupyter's `normalize.less` sets `[hidden] { display: none; }` but bootstrap.min.css set `[hidden] { display: none !important; }` so we also need the `!important` here to be able to override the default hidden behavior on the sphinx rendered scikit-learn.org. See: https://github.com/scikit-learn/scikit-learn/issues/21755 */display: inline-block !important;position: relative;}#sk-container-id-2 div.sk-text-repr-fallback {display: none;}</style><div id=\"sk-container-id-2\" class=\"sk-top-container\"><div class=\"sk-text-repr-fallback\"><pre>RandomForestClassifier()</pre><b>In a Jupyter environment, please rerun this cell to show the HTML representation or trust the notebook. <br />On GitHub, the HTML representation is unable to render, please try loading this page with nbviewer.org.</b></div><div class=\"sk-container\" hidden><div class=\"sk-item\"><div class=\"sk-estimator sk-toggleable\"><input class=\"sk-toggleable__control sk-hidden--visually\" id=\"sk-estimator-id-2\" type=\"checkbox\" checked><label for=\"sk-estimator-id-2\" class=\"sk-toggleable__label sk-toggleable__label-arrow\">RandomForestClassifier</label><div class=\"sk-toggleable__content\"><pre>RandomForestClassifier()</pre></div></div></div></div></div>"
      ],
      "text/plain": [
       "RandomForestClassifier()"
      ]
     },
     "execution_count": 50,
     "metadata": {},
     "output_type": "execute_result"
    }
   ],
   "source": [
    "rf = RandomForestClassifier()\n",
    "rf.fit(x_train, y_train)"
   ]
  },
  {
   "cell_type": "code",
   "execution_count": 51,
   "id": "32a6cf64",
   "metadata": {},
   "outputs": [],
   "source": [
    "y_pred = rf.predict(x_test)"
   ]
  },
  {
   "cell_type": "code",
   "execution_count": 52,
   "id": "9a4eaa21",
   "metadata": {},
   "outputs": [
    {
     "name": "stdout",
     "output_type": "stream",
     "text": [
      "Accuracy: 0.9527135321027883\n"
     ]
    }
   ],
   "source": [
    "accuracy1 = accuracy_score(y_test, y_pred)\n",
    "print(\"Accuracy:\", accuracy1)\n",
    "randomForestScore = accuracy1"
   ]
  },
  {
   "cell_type": "code",
   "execution_count": 53,
   "id": "58487035",
   "metadata": {},
   "outputs": [
    {
     "data": {
      "text/html": [
       "<style>#sk-container-id-3 {color: black;background-color: white;}#sk-container-id-3 pre{padding: 0;}#sk-container-id-3 div.sk-toggleable {background-color: white;}#sk-container-id-3 label.sk-toggleable__label {cursor: pointer;display: block;width: 100%;margin-bottom: 0;padding: 0.3em;box-sizing: border-box;text-align: center;}#sk-container-id-3 label.sk-toggleable__label-arrow:before {content: \"▸\";float: left;margin-right: 0.25em;color: #696969;}#sk-container-id-3 label.sk-toggleable__label-arrow:hover:before {color: black;}#sk-container-id-3 div.sk-estimator:hover label.sk-toggleable__label-arrow:before {color: black;}#sk-container-id-3 div.sk-toggleable__content {max-height: 0;max-width: 0;overflow: hidden;text-align: left;background-color: #f0f8ff;}#sk-container-id-3 div.sk-toggleable__content pre {margin: 0.2em;color: black;border-radius: 0.25em;background-color: #f0f8ff;}#sk-container-id-3 input.sk-toggleable__control:checked~div.sk-toggleable__content {max-height: 200px;max-width: 100%;overflow: auto;}#sk-container-id-3 input.sk-toggleable__control:checked~label.sk-toggleable__label-arrow:before {content: \"▾\";}#sk-container-id-3 div.sk-estimator input.sk-toggleable__control:checked~label.sk-toggleable__label {background-color: #d4ebff;}#sk-container-id-3 div.sk-label input.sk-toggleable__control:checked~label.sk-toggleable__label {background-color: #d4ebff;}#sk-container-id-3 input.sk-hidden--visually {border: 0;clip: rect(1px 1px 1px 1px);clip: rect(1px, 1px, 1px, 1px);height: 1px;margin: -1px;overflow: hidden;padding: 0;position: absolute;width: 1px;}#sk-container-id-3 div.sk-estimator {font-family: monospace;background-color: #f0f8ff;border: 1px dotted black;border-radius: 0.25em;box-sizing: border-box;margin-bottom: 0.5em;}#sk-container-id-3 div.sk-estimator:hover {background-color: #d4ebff;}#sk-container-id-3 div.sk-parallel-item::after {content: \"\";width: 100%;border-bottom: 1px solid gray;flex-grow: 1;}#sk-container-id-3 div.sk-label:hover label.sk-toggleable__label {background-color: #d4ebff;}#sk-container-id-3 div.sk-serial::before {content: \"\";position: absolute;border-left: 1px solid gray;box-sizing: border-box;top: 0;bottom: 0;left: 50%;z-index: 0;}#sk-container-id-3 div.sk-serial {display: flex;flex-direction: column;align-items: center;background-color: white;padding-right: 0.2em;padding-left: 0.2em;position: relative;}#sk-container-id-3 div.sk-item {position: relative;z-index: 1;}#sk-container-id-3 div.sk-parallel {display: flex;align-items: stretch;justify-content: center;background-color: white;position: relative;}#sk-container-id-3 div.sk-item::before, #sk-container-id-3 div.sk-parallel-item::before {content: \"\";position: absolute;border-left: 1px solid gray;box-sizing: border-box;top: 0;bottom: 0;left: 50%;z-index: -1;}#sk-container-id-3 div.sk-parallel-item {display: flex;flex-direction: column;z-index: 1;position: relative;background-color: white;}#sk-container-id-3 div.sk-parallel-item:first-child::after {align-self: flex-end;width: 50%;}#sk-container-id-3 div.sk-parallel-item:last-child::after {align-self: flex-start;width: 50%;}#sk-container-id-3 div.sk-parallel-item:only-child::after {width: 0;}#sk-container-id-3 div.sk-dashed-wrapped {border: 1px dashed gray;margin: 0 0.4em 0.5em 0.4em;box-sizing: border-box;padding-bottom: 0.4em;background-color: white;}#sk-container-id-3 div.sk-label label {font-family: monospace;font-weight: bold;display: inline-block;line-height: 1.2em;}#sk-container-id-3 div.sk-label-container {text-align: center;}#sk-container-id-3 div.sk-container {/* jupyter's `normalize.less` sets `[hidden] { display: none; }` but bootstrap.min.css set `[hidden] { display: none !important; }` so we also need the `!important` here to be able to override the default hidden behavior on the sphinx rendered scikit-learn.org. See: https://github.com/scikit-learn/scikit-learn/issues/21755 */display: inline-block !important;position: relative;}#sk-container-id-3 div.sk-text-repr-fallback {display: none;}</style><div id=\"sk-container-id-3\" class=\"sk-top-container\"><div class=\"sk-text-repr-fallback\"><pre>KNeighborsClassifier(n_neighbors=3)</pre><b>In a Jupyter environment, please rerun this cell to show the HTML representation or trust the notebook. <br />On GitHub, the HTML representation is unable to render, please try loading this page with nbviewer.org.</b></div><div class=\"sk-container\" hidden><div class=\"sk-item\"><div class=\"sk-estimator sk-toggleable\"><input class=\"sk-toggleable__control sk-hidden--visually\" id=\"sk-estimator-id-3\" type=\"checkbox\" checked><label for=\"sk-estimator-id-3\" class=\"sk-toggleable__label sk-toggleable__label-arrow\">KNeighborsClassifier</label><div class=\"sk-toggleable__content\"><pre>KNeighborsClassifier(n_neighbors=3)</pre></div></div></div></div></div>"
      ],
      "text/plain": [
       "KNeighborsClassifier(n_neighbors=3)"
      ]
     },
     "execution_count": 53,
     "metadata": {},
     "output_type": "execute_result"
    }
   ],
   "source": [
    "knn = KNeighborsClassifier(n_neighbors=3)\n",
    "knn.fit(x_train, y_train)"
   ]
  },
  {
   "cell_type": "code",
   "execution_count": 54,
   "id": "5a749b9b",
   "metadata": {},
   "outputs": [],
   "source": [
    "y_pred = knn.predict(x_test)"
   ]
  },
  {
   "cell_type": "code",
   "execution_count": 55,
   "id": "d8849928",
   "metadata": {},
   "outputs": [
    {
     "name": "stdout",
     "output_type": "stream",
     "text": [
      "Accuracy: 0.7739802362731258\n"
     ]
    }
   ],
   "source": [
    "accuracy2 = accuracy_score(y_test, y_pred)\n",
    "print(\"Accuracy:\", accuracy2)\n",
    "KNeighborsScore = accuracy2"
   ]
  },
  {
   "cell_type": "code",
   "execution_count": 56,
   "id": "93de9ed9",
   "metadata": {},
   "outputs": [
    {
     "data": {
      "text/html": [
       "<style type=\"text/css\">\n",
       "</style>\n",
       "<table id=\"T_09c1d\">\n",
       "  <thead>\n",
       "    <tr>\n",
       "      <th class=\"blank level0\" >&nbsp;</th>\n",
       "      <th id=\"T_09c1d_level0_col0\" class=\"col_heading level0 col0\" >KNEIGHBORS CLASSIFIER</th>\n",
       "      <th id=\"T_09c1d_level0_col1\" class=\"col_heading level0 col1\" >LOGISTIC REGRESSION</th>\n",
       "      <th id=\"T_09c1d_level0_col2\" class=\"col_heading level0 col2\" >RANDOM FOREST</th>\n",
       "      <th id=\"T_09c1d_level0_col3\" class=\"col_heading level0 col3\" >DECISION TREE</th>\n",
       "    </tr>\n",
       "  </thead>\n",
       "  <tbody>\n",
       "    <tr>\n",
       "      <th id=\"T_09c1d_level0_row0\" class=\"row_heading level0 row0\" >Accuracy</th>\n",
       "      <td id=\"T_09c1d_row0_col0\" class=\"data row0 col0\" >0,774</td>\n",
       "      <td id=\"T_09c1d_row0_col1\" class=\"data row0 col1\" >0,880</td>\n",
       "      <td id=\"T_09c1d_row0_col2\" class=\"data row0 col2\" >0,953</td>\n",
       "      <td id=\"T_09c1d_row0_col3\" class=\"data row0 col3\" >0,973</td>\n",
       "    </tr>\n",
       "  </tbody>\n",
       "</table>\n"
      ],
      "text/plain": [
       "<pandas.io.formats.style.Styler at 0x15fa4df60>"
      ]
     },
     "execution_count": 56,
     "metadata": {},
     "output_type": "execute_result"
    }
   ],
   "source": [
    "df_score = pd.DataFrame({\n",
    "    'KNeighbors Classifier': KNeighborsScore,\n",
    "    'Random Forest': randomForestScore,\n",
    "    'Logistic Regression': logisticRegressionScore,\n",
    "    'Decision Tree': decisionTreeScore\n",
    "}, index=['Accuracy'])\n",
    "\n",
    "# Sort the DataFrame by accuracy scores in ascending order\n",
    "df_score_sorted = df_score.sort_values(by='Accuracy', axis=1)\n",
    "\n",
    "# Apply formatting and relabeling\n",
    "styled_df = df_score_sorted.style \\\n",
    "    .format(precision=3, thousands=\".\", decimal=\",\") \\\n",
    "    .format_index(str.upper, axis=1)\n",
    "\n",
    "# Display the styled DataFrame\n",
    "styled_df"
   ]
  },
  {
   "cell_type": "code",
   "execution_count": 57,
   "id": "3dd3ae23",
   "metadata": {
    "scrolled": false
   },
   "outputs": [
    {
     "data": {
      "image/png": "[encoded data removed]",
      "text/plain": [
       "<Figure size 640x480 with 2 Axes>"
      ]
     },
     "metadata": {},
     "output_type": "display_data"
    }
   ],
   "source": [
    "from sklearn.metrics import ConfusionMatrixDisplay\n",
    "from sklearn.metrics import confusion_matrix\n",
    "import os\n",
    "\n",
    "# Compute confusion matrix\n",
    "cm = confusion_matrix(y_test, clf.predict(x_test), labels=clf.classes_)\n",
    "\n",
    "# Define title and color\n",
    "title = \"Confusion Matrix for Decision Tree Classifier\"\n",
    "color = 'black'\n",
    "\n",
    "# Display confusion matrix\n",
    "disp = ConfusionMatrixDisplay(confusion_matrix=cm, display_labels=clf.classes_)\n",
    "disp.plot()\n",
    "plt.title(title, color=color)  # Add title with specified color\n",
    "\n",
    "# Define the directory to save the figure\n",
    "save_dir = \"../../credit-risk-classifier/reports/figures\"\n",
    "\n",
    "# Save the figure\n",
    "plt.savefig(os.path.join(save_dir, 'ConfusionMatrixforDecisionTreeClassifier.png'), transparent=False)\n",
    "plt.show()"
   ]
  },
  {
   "cell_type": "code",
   "execution_count": 58,
   "id": "4ad19e62",
   "metadata": {
    "scrolled": true
   },
   "outputs": [
    {
     "name": "stdout",
     "output_type": "stream",
     "text": [
      "              precision    recall  f1-score   support\n",
      "\n",
      "           A       1.00      1.00      1.00     13895\n",
      "           B       0.99      0.99      0.99     27503\n",
      "           C       0.97      0.96      0.97     26254\n",
      "           D       0.95      0.94      0.95     15883\n",
      "           E       0.94      0.97      0.96      7345\n",
      "           F       0.98      0.97      0.97      2723\n",
      "           G       0.94      0.93      0.94       610\n",
      "\n",
      "    accuracy                           0.97     94213\n",
      "   macro avg       0.97      0.97      0.97     94213\n",
      "weighted avg       0.97      0.97      0.97     94213\n",
      "\n"
     ]
    }
   ],
   "source": [
    "from sklearn.metrics import classification_report\n",
    "\n",
    "print(classification_report(y_test, clf.predict(x_test)))"
   ]
  },
  {
   "cell_type": "code",
   "execution_count": 59,
   "id": "1711c7d9",
   "metadata": {},
   "outputs": [
    {
     "name": "stdout",
     "output_type": "stream",
     "text": [
      "Test Accuracy: 0.9734643838960653\n",
      "Cross-validation Accuracy Scores: [0.98079328 0.97933454 0.98065435 0.97485413 0.97648652 0.97690331\n",
      " 0.97666018 0.97790976 0.97641624 0.96568372]\n",
      "Mean Cross-validation Accuracy: 0.9765696027011851\n",
      "Standard Deviation of Cross-validation Accuracy: 0.004068915473681694\n",
      "Training Accuracy: 1.0\n"
     ]
    }
   ],
   "source": [
    "# Print test accuracy\n",
    "test_accuracy = metrics.accuracy_score(y_test, clf.predict(x_test))\n",
    "print(\"Test Accuracy:\", test_accuracy)\n",
    "\n",
    "# Cross-validation accuracy\n",
    "cv_scores = cross_val_score(clf, x_train, y_train, cv=10)  # 10-fold cross-validation\n",
    "print(\"Cross-validation Accuracy Scores:\", cv_scores)\n",
    "\n",
    "# Mean cross-validation accuracy\n",
    "mean_cv_accuracy = np.mean(cv_scores)\n",
    "print(\"Mean Cross-validation Accuracy:\", mean_cv_accuracy)\n",
    "\n",
    "# Standard deviation of cross-validation accuracy\n",
    "std_cv_accuracy = np.std(cv_scores)\n",
    "print(\"Standard Deviation of Cross-validation Accuracy:\", std_cv_accuracy)\n",
    "\n",
    "# Training accuracy\n",
    "train_accuracy = clf.score(x_train, y_train)\n",
    "print(\"Training Accuracy:\", train_accuracy)\n",
    "\n",
    "decisionTreeScore = test_accuracy"
   ]
  },
  {
   "cell_type": "code",
   "execution_count": 60,
   "id": "c0ab805a",
   "metadata": {},
   "outputs": [],
   "source": [
    "# Learning curve\n",
    "train_sizes, train_scores, test_scores = learning_curve(clf, x_train, y_train, cv=10)\n",
    "\n",
    "# Mean training and test scores\n",
    "train_mean = np.mean(train_scores, axis=1)\n",
    "test_mean = np.mean(test_scores, axis=1)\n",
    "\n",
    "# Standard deviation of training and test scores\n",
    "train_std = np.std(train_scores, axis=1)\n",
    "test_std = np.std(test_scores, axis=1)"
   ]
  },
  {
   "cell_type": "code",
   "execution_count": 61,
   "id": "b268d66d",
   "metadata": {
    "scrolled": true
   },
   "outputs": [
    {
     "data": {
      "image/png": "[encoded data removed]",
      "text/plain": [
       "<Figure size 1000x600 with 1 Axes>"
      ]
     },
     "metadata": {},
     "output_type": "display_data"
    }
   ],
   "source": [
    "# Plot learning curve\n",
    "plt.figure(figsize=(10, 6))\n",
    "plt.fill_between(train_sizes, train_mean - train_std, train_mean + train_std, alpha=0.1, color=\"r\")\n",
    "plt.fill_between(train_sizes, test_mean - test_std, test_mean + test_std, alpha=0.1, color=\"g\")\n",
    "plt.plot(train_sizes, train_mean, 'o-', color=\"r\", label=\"Training score\")\n",
    "plt.plot(train_sizes, test_mean, 'o-', color=\"g\", label=\"Cross-validation score\")\n",
    "plt.xlabel(\"Training examples\")\n",
    "plt.ylabel(\"Accuracy\")\n",
    "plt.title(\"Decision Tree Learning Curve\")\n",
    "plt.legend(loc=\"best\")\n",
    "plt.grid()\n",
    "\n",
    "# Define the directory to save the figure\n",
    "save_dir = \"../../credit-risk-classifier/reports/figures\"\n",
    "\n",
    "# Save the figure\n",
    "plt.savefig(os.path.join(save_dir, 'DecisionTreeLearningCurve.png'), transparent=False)\n",
    "\n",
    "plt.show()"
   ]
  },
  {
   "cell_type": "markdown",
   "id": "99b87e90",
   "metadata": {},
   "source": [
    "## Save Model for Deployment"
   ]
  },
  {
   "cell_type": "code",
   "execution_count": 73,
   "id": "598cb857",
   "metadata": {
    "scrolled": true
   },
   "outputs": [],
   "source": [
    "import os\n",
    "import pickle\n",
    "\n",
    "# Absolute path to the models directory\n",
    "save_dir = \"../../credit-risk-classifier/src/models\"\n",
    "\n",
    "# File path\n",
    "filename = os.path.join(save_dir, \"decision_tree_model.pkl\")\n",
    "\n",
    "# Save the trained model\n",
    "with open(filename, 'wb') as file:\n",
    "    pickle.dump(clf, file)"
   ]
  }
 ],
 "metadata": {
  "kernelspec": {
   "display_name": "Python 3 (ipykernel)",
   "language": "python",
   "name": "python3"
  },
  "language_info": {
   "codemirror_mode": {
    "name": "ipython",
    "version": 3
   },
   "file_extension": ".py",
   "mimetype": "text/x-python",
   "name": "python",
   "nbconvert_exporter": "python",
   "pygments_lexer": "ipython3",
   "version": "3.10.9"
  }
 },
 "nbformat": 4,
 "nbformat_minor": 5
}
